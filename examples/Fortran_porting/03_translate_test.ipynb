{
 "cells": [
  {
   "cell_type": "markdown",
   "metadata": {},
   "source": [
    "Make a translate test:\n",
    "- Make the savepoint by following the naming convention `XYZ-In` and `XYZ-Out`\n",
    "- Write the Translate class, following the naming convention `TranslateXYZ`\n",
    "    - Inherit from the base class (default `TranslateFortranData2Py`)\n",
    "    - `compute_func` is called, override that with runtime of the ported code\n",
    "    - definte `self.in_vars` and `self.out_vars` dimensions, names and serialize override to \n",
    "    make the bridge between the saved data and the calling signature"
   ]
  },
  {
   "cell_type": "markdown",
   "metadata": {},
   "source": [
    "We made an example for `FILLQZERO1`. You can run it with"
   ]
  },
  {
   "cell_type": "code",
   "execution_count": null,
   "metadata": {
    "vscode": {
     "languageId": "shellscript"
    }
   },
   "outputs": [],
   "source": [
    "%%bash\n",
    "\n",
    "python -m pytest \\ \n",
    "       --data_path=./test_data/example_data/Fortran/FILLQ2ZERO \\\n",
    "       --grid=default \\\n",
    "       --backend=numpy \\\n",
    "       --layout=tile \\\n",
    "       ./examples/Fortran_porting/tests/"
   ]
  }
 ],
 "metadata": {
  "language_info": {
   "name": "python"
  }
 },
 "nbformat": 4,
 "nbformat_minor": 2
}
