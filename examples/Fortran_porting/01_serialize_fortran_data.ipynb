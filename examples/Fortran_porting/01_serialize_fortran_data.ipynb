{
 "cells": [
  {
   "cell_type": "markdown",
   "metadata": {},
   "source": [
    "## **Serialbox Tutorial : Serializing Fortran Data**\n",
    "\n",
    "This notebook will cover the basics on extracting data within a Fortran program using [Serialbox](https://gridtools.github.io/serialbox/).\n",
    "\n",
    "### **Notebook Requirements**\n",
    "\n",
    "- Python v3.11.x to v3.12.x\n",
    "- [NOAA/NASA Domain Specific Language Middleware](https://github.com/NOAA-GFDL/NDSL)\n",
    "- `ipykernel==6.1.0`\n",
    "- [`ipython_genutils`](https://pypi.org/project/ipython_genutils/)\n",
    "- Fortran compiler that built Serialbox in the `NDSL` middleware (Note: The default build instructions for `NDSL` builds Serialbox such that it outputs to binary data files from Fortran.  Serialbox has compiler options that enable it to write netCDF files.)"
   ]
  },
  {
   "cell_type": "markdown",
   "metadata": {},
   "source": [
    "### **Brief Serialbox Overview**\n",
    "\n",
    "[Serialbox](https://gridtools.github.io/serialbox/) is a library that can extract data from Fortran programs for use in code porting and verification.  It uses directive-based code statements that are translated later into actual Serialbox library calls, which makes it approachable to use.  Extracting data from a Fortran program using Serialbox essentially follows these steps.\n",
    "\n",
    "1) Initialize Serialbox\n",
    "2) Create a savepoint\n",
    "3) Save the data of interest\n",
    "4) \"Clean up\" the savepoint\n",
    "\n",
    "These four steps corrolate to the following directives in Serialbox.\n",
    "\n",
    "1) `!$ser init directory='<Directory Path to store Serialbox data>' prefix='<Name of Data Group>'`\n",
    "2) `!$ser savepoint <Name of Savepoint>`\n",
    "3) `!$ser data <Serialbox Variable Name>=<Fortran Variable Name>`\n",
    "4) `!$ser cleanup`\n",
    "\n",
    "Note that in 3, multiple variables can be specified (ex: `!$ser data serialA=fortranA serialB=fortranB serialC=fortranC`)"
   ]
  },
  {
   "cell_type": "markdown",
   "metadata": {},
   "source": [
    "### **Serialbox Example 1**\n",
    "\n",
    "We'll step through a basic example that extracts data from a Fortran code using Serialbox.\n",
    "\n",
    "The following sets the environment variables `SERIALBOX_EXAMPLE_PATH` and `SERIALBOX_INSTALL_PATH`.  Afterwards, a Bash script issues commands that create a `Fortran` directory within `SERIALBOX_EXAMPLE_PATH` that will store the Fortran code used to demonstrate Serialbox commands.  Be sure to change the environment variables `SERIALBOX_EXAMPLE_PATH` and `SERIALBOX_INSTALL_PATH` to ones that're appropriate for your machine."
   ]
  },
  {
   "cell_type": "code",
   "execution_count": 8,
   "metadata": {
    "vscode": {
     "languageId": "shellscript"
    }
   },
   "outputs": [
    {
     "name": "stdout",
     "output_type": "stream",
     "text": [
      "env: SERIALBOX_EXAMPLE_PATH=/home/mad/work/ndsl/test_data/example_data/\n",
      "env: SERIALBOX_INSTALL_PATH=/home/mad/work/serialbox/install/\n"
     ]
    }
   ],
   "source": [
    "# Change SERIALBOX_EXAMPLE_PATH and SERIALBOX_INSTALL_PATH to appropriate paths\n",
    "%env SERIALBOX_EXAMPLE_PATH=/home/mad/work/ndsl/test_data/example_data/\n",
    "%env SERIALBOX_INSTALL_PATH=/home/mad/work/serialbox/install/\n",
    "%env SAVEPOINT_NAME=FILLQ2ZERO1"
   ]
  },
  {
   "cell_type": "code",
   "execution_count": 9,
   "metadata": {
    "vscode": {
     "languageId": "shellscript"
    }
   },
   "outputs": [],
   "source": [
    "%%bash\n",
    "\n",
    "cd $SERIALBOX_EXAMPLE_PATH\n",
    "\n",
    "if [ ! -d \"./Fortran\" ]; then\n",
    "    mkdir Fortran\n",
    "else\n",
    "    rm -rf Fortran\n",
    "    mkdir Fortran\n",
    "fi"
   ]
  },
  {
   "cell_type": "markdown",
   "metadata": {},
   "source": [
    "#### **Serialbox directive calls in Fortran code**\n",
    "\n",
    "Next we'll issue commands that create and write the file `testSerialBox.F90` and move it to the previously created `Fortran` directory. This file will contain the Fortran program `testSerialBox` that allocates three arrays, writes random numbers into two arrays (`Qin_out`, `MASS`), and passes the arrays into the subroutine `FILLQ2ZERO1`."
   ]
  },
  {
   "cell_type": "code",
   "execution_count": 29,
   "metadata": {
    "vscode": {
     "languageId": "shellscript"
    }
   },
   "outputs": [
    {
     "name": "stdout",
     "output_type": "stream",
     "text": [
      "Writing testSerialBox.F90\n"
     ]
    }
   ],
   "source": [
    "%%writefile testSerialBox.F90\n",
    "\n",
    "program testSerialBox\n",
    "\n",
    "  implicit none\n",
    "\n",
    "  real, dimension(:,:,:), allocatable :: Qin_out, MASS\n",
    "  real, dimension(:,:),   allocatable :: FILLQ_out\n",
    "\n",
    "  integer :: N = 5\n",
    "\n",
    "  allocate(Qin_out(N,N,N), MASS(N,N,N), FILLQ_out(N,N))\n",
    "\n",
    "  call random_number(Qin_out)\n",
    "  call random_number(MASS)\n",
    "\n",
    "  where(Qin_out < 0.1) Qin_out = -Qin_out\n",
    "\n",
    "  print*, 'sum(Qin_out) = ', sum(Qin_out)\n",
    "  print*, 'sum(MASS) = ', sum(MASS)\n",
    "\n",
    "\n",
    "!$ser init directory='.' prefix='FILLQ2ZERO_SerData'\n",
    "!$ser mode write\n",
    "!$ser savepoint FILLQ2ZERO1-In\n",
    "!$ser data q=Qin_out mass=MASS fq=FILLQ_out\n",
    "\n",
    "  call FILLQ2ZERO1(Qin_out, MASS, FILLQ_out)\n",
    "\n",
    "!$ser savepoint FILLQ2ZERO1-Out\n",
    "!$ser data q=Qin_out mass=MASS fq=FILLQ_out\n",
    "!$ser cleanup\n",
    "\n",
    "  print*, 'sum(Qin_out) = ', sum(Qin_out)\n",
    "  print*, 'sum(FILLQ_out) = ', sum(FILLQ_out)\n",
    "\n",
    "   contains\n",
    "\n",
    "  subroutine FILLQ2ZERO1( Q, MASS, FILLQ  )\n",
    "    real, dimension(:,:,:),   intent(inout)  :: Q\n",
    "    real, dimension(:,:,:),   intent(in)     :: MASS\n",
    "    real, dimension(:,:),     intent(  out)  :: FILLQ\n",
    "    integer                                  :: IM,JM,LM\n",
    "    integer                                  :: I,J,K,L\n",
    "    real                                     :: TPW, NEGTPW\n",
    "    !!!!!!!!!!!!!!!!!!!!!!!!!!!!!!!!!!!!!!!!!!!!!!!!!!!!!!!!\n",
    "    ! Fills in negative q values in a mass conserving way.\n",
    "    ! Conservation of TPW was checked.\n",
    "    !!!!!!!!!!!!!!!!!!!!!!!!!!!!!!!!!!!!!!!!!!!!!!!!!!!!!!!!\n",
    "    IM = SIZE( Q, 1 )\n",
    "    JM = SIZE( Q, 2 )\n",
    "    LM = SIZE( Q, 3 )\n",
    "    do j=1,JM\n",
    "       do i=1,IM\n",
    "          TPW = SUM( Q(i,j,:)*MASS(i,j,:) )\n",
    "          NEGTPW = 0.\n",
    "          do l=1,LM\n",
    "             if ( Q(i,j,l) < 0.0 ) then\n",
    "                NEGTPW   = NEGTPW + ( Q(i,j,l)*MASS( i,j,l ) )\n",
    "                Q(i,j,l) = 0.0\n",
    "             endif\n",
    "          enddo\n",
    "          do l=1,LM\n",
    "             if ( Q(i,j,l) >= 0.0 ) then\n",
    "                Q(i,j,l) = Q(i,j,l)*( 1.0+NEGTPW/(TPW-NEGTPW) )\n",
    "             endif\n",
    "          enddo\n",
    "          FILLQ(i,j) = -NEGTPW\n",
    "       end do\n",
    "    end do\n",
    "  end subroutine FILLQ2ZERO1\n",
    "end program"
   ]
  },
  {
   "cell_type": "code",
   "execution_count": 30,
   "metadata": {
    "vscode": {
     "languageId": "shellscript"
    }
   },
   "outputs": [],
   "source": [
    "%%bash\n",
    "\n",
    "mv testSerialBox.F90 $SERIALBOX_EXAMPLE_PATH/Fortran"
   ]
  },
  {
   "cell_type": "markdown",
   "metadata": {},
   "source": [
    "Assuming that we are interested in porting the subroutine `FILLQ2ZERO1`, we need the array data before and after calling `FILLQ2ZERO1`, which will let us set the initial data state in our ported code appropriately and have output data for comparison purposes.  To get this data, there are directive-based Serialbox commands inserted before and after the call to `FILLQ2ZERO1` that follow the steps presented in the [Serialbox overview](#brief-serialbox-overview).  Let's quickly examine the Serialbox commands before the call to `FILLQ2ZERO1`.\n",
    "\n",
    "- `!$ser init directory='.' prefix='FILLQ2ZERO1_SerData'` : Initializes Serialbox and specifies that the extracted data will be written into the current path where the code is executed.  The data will be grouped and named with the prefix `FILLQ2ZERO1_SerData`.\n",
    "\n",
    "- `!$ser savepoint FILLQ2ZERO1` : Creates a savepoint with the name `FILLQ2ZERO1`.\n",
    "\n",
    "- `!$ser mode write` : Serialbox's operation mode will be to write data files.  This is the default mode (have to check this).  Other modes include `read`.\n",
    "\n",
    "- `!$ser data q=Qin_out mass=MASS fq=FILLQ_out` : Serialbox will write the arrays out into data files.  Note that the variable on the left side of `=` is the variable name that Serialbox will use, and the variable on the right side of `=` is the Fortran variable.\n",
    "\n",
    "After the `FILLQ2ZERO1` call, the Serialbox command `!$ser data...`  records the resulting output arrays from `FILLQ2ZERO1` .  `!$ser cleanup` indicates we're done with writing data and finalizes the files.\n",
    "\n",
    "#### **Translating Serialbox directive calls into actual library calls**\n",
    "\n",
    "While we've expressed the Serialbox commands using directives, these directives will need to be mapped to the appropriate Serialbox library calls. To do this, we run a Python script `pp_ser.py` (found in the Serialbox installation directory) that will replace the `!ser` directive statements will the appropriate Fortran Serialbox calls and will write a new `testSerialBox.F90` file.  The following Bash commands will create an `sb` directory with the `Fortran` directory and execute the `pp_ser.py` script."
   ]
  },
  {
   "cell_type": "code",
   "execution_count": 36,
   "metadata": {
    "vscode": {
     "languageId": "shellscript"
    }
   },
   "outputs": [
    {
     "name": "stdout",
     "output_type": "stream",
     "text": [
      "Processing file testSerialBox.F90\n"
     ]
    }
   ],
   "source": [
    "%%bash\n",
    "\n",
    "cd $SERIALBOX_EXAMPLE_PATH/Fortran\n",
    "if [ ! -d \"./$SAVEPOINT_NAME\" ]; then\n",
    "    mkdir $SAVEPOINT_NAME\n",
    "else\n",
    "    rm -rf $SAVEPOINT_NAME\n",
    "    mkdir $SAVEPOINT_NAME\n",
    "fi\n",
    "\n",
    "python /home/mad/work/serialbox/src/serialbox-python/pp_ser/pp_ser.py --output-dir=./$SAVEPOINT_NAME testSerialBox.F90"
   ]
  },
  {
   "cell_type": "markdown",
   "metadata": {},
   "source": [
    "Note that we specified the option `--output-dir=./sb` when running `pp_ser.py`, which specifies the location where we want the resulting Fortran code with the Serialbox directives replaced with library calls.  If we did not specify the output directory, executing `pp_ser.py` would simply print the Fortran code to the terminal.  In the `sb` directory, we'll find a `testSerialBox.F90` file that contains the appropriate Serialbox calls."
   ]
  },
  {
   "cell_type": "code",
   "execution_count": 39,
   "metadata": {
    "vscode": {
     "languageId": "shellscript"
    }
   },
   "outputs": [
    {
     "name": "stdout",
     "output_type": "stream",
     "text": [
      "total 16\n",
      "drwxr-xr-x 2 mad mad 4096 May 15 14:32 .\n",
      "drwxr-xr-x 3 mad mad 4096 May 15 14:32 ..\n",
      "-rw-r--r-- 1 mad mad 5099 May 15 14:32 testSerialBox.F90\n"
     ]
    }
   ],
   "source": [
    "%%bash\n",
    "\n",
    "cd $SERIALBOX_EXAMPLE_PATH/Fortran/FILLQ2ZERO1\n",
    "ls -al"
   ]
  },
  {
   "cell_type": "markdown",
   "metadata": {},
   "source": [
    "#### **Building and Running Fortran code with Serialbox library**\n",
    "\n",
    "Compiling the Fortran code with Serialbox requires the following during compilation:\n",
    "\n",
    "- References to the following Serialbox libraries (assuming that we want the resulting binary with libraries statically linked)\n",
    "    - `libSerialboxFortran.a`\n",
    "    - `libSerialboxC.a`\n",
    "    - `libSerialboxCore.a`\n",
    "    - `-lstdc++`\n",
    "    \n",
    "- The `-DSERIALIZE` macro to activate the Serialbox codepath within the Fortran code.  Note that not having this macro during compilation will result in a binary without Serialbox calls.\n",
    "\n",
    "- The `include` path from the Serialbox installation\n",
    "\n",
    "The compilation line can look as follows."
   ]
  },
  {
   "cell_type": "code",
   "execution_count": 40,
   "metadata": {
    "vscode": {
     "languageId": "shellscript"
    }
   },
   "outputs": [],
   "source": [
    "%%bash\n",
    "\n",
    "cd $SERIALBOX_EXAMPLE_PATH/Fortran/FILLQ2ZERO1\n",
    "\n",
    "# Note: Adjust the libraries and include paths appropriately\n",
    "\n",
    "gfortran testSerialBox.F90  \\\n",
    "    $SERIALBOX_INSTALL_PATH/lib/libSerialboxFortran.a \\\n",
    "    $SERIALBOX_INSTALL_PATH/lib/libSerialboxC.a \\\n",
    "    $SERIALBOX_INSTALL_PATH/lib/libSerialboxCore.a \\\n",
    "    -lstdc++ \\\n",
    "    -DSERIALIZE \\\n",
    "    -I$SERIALBOX_INSTALL_PATH/include \\\n",
    "    -o testSerialBox.bin\n"
   ]
  },
  {
   "cell_type": "markdown",
   "metadata": {},
   "source": [
    "After successful compilation, we can execute the code.  Note that whenever Serialbox is running, the code displays `WARNING: SERIALIZATION IS ON` in the terminal."
   ]
  },
  {
   "cell_type": "code",
   "execution_count": 41,
   "metadata": {
    "vscode": {
     "languageId": "shellscript"
    }
   },
   "outputs": [
    {
     "name": "stdout",
     "output_type": "stream",
     "text": [
      " sum(Qin_out) =    55.8682556    \n",
      " sum(MASS) =    60.2736511    \n",
      " >>>>>>>>>>>>>>>>>><<<<<<<<<<<<<<<<<<\n",
      " >>> WARNING: SERIALIZATION IS ON <<<\n",
      " >>>>>>>>>>>>>>>>>><<<<<<<<<<<<<<<<<<\n",
      " sum(Qin_out) =    55.8816376    \n",
      " sum(FILLQ_out) =   0.210932091    \n"
     ]
    }
   ],
   "source": [
    "%%bash\n",
    "\n",
    "cd $SERIALBOX_EXAMPLE_PATH/Fortran/FILLQ2ZERO1\n",
    "./testSerialBox.bin"
   ]
  },
  {
   "cell_type": "markdown",
   "metadata": {},
   "source": [
    "After the code executes, you will see several `.json` and `.dat` files that are named based on the Serialbox's written variables and the `prefix` specified during Serialbox's initialization."
   ]
  },
  {
   "cell_type": "code",
   "execution_count": 42,
   "metadata": {
    "vscode": {
     "languageId": "shellscript"
    }
   },
   "outputs": [
    {
     "name": "stdout",
     "output_type": "stream",
     "text": [
      "total 1008\n",
      "drwxr-xr-x 2 mad mad   4096 May 15 14:33 .\n",
      "drwxr-xr-x 3 mad mad   4096 May 15 14:32 ..\n",
      "-rw-r--r-- 1 mad mad    703 May 15 14:33 ArchiveMetaData-FILLQ2ZERO_InOut.json\n",
      "-rw-r--r-- 1 mad mad    200 May 15 14:33 FILLQ2ZERO_InOut_fq.dat\n",
      "-rw-r--r-- 1 mad mad    500 May 15 14:33 FILLQ2ZERO_InOut_mass.dat\n",
      "-rw-r--r-- 1 mad mad   1000 May 15 14:33 FILLQ2ZERO_InOut_q.dat\n",
      "-rw-r--r-- 1 mad mad   3860 May 15 14:33 MetaData-FILLQ2ZERO_InOut.json\n",
      "-rw-r--r-- 1 mad mad   5099 May 15 14:32 testSerialBox.F90\n",
      "-rwxr-xr-x 1 mad mad 993872 May 15 14:33 testSerialBox.bin\n"
     ]
    }
   ],
   "source": [
    "%%bash\n",
    "\n",
    "cd $SERIALBOX_EXAMPLE_PATH/Fortran/FILLQ2ZERO1\n",
    "ls -al"
   ]
  },
  {
   "cell_type": "markdown",
   "metadata": {},
   "source": [
    "## **Serialbox Example 2 : Looping Region**\n",
    "\n",
    "There may be cases where a function or subroutine is located within a looping region, and we want to check the values of a looping region.  Serialbox enables saving data within a looping region by adding metadata to the `!$ser savepoint` declaration.  In general, it can look like this.\n",
    "\n",
    "- `!$ser savepoint <Savepoint Name> <Metadata variable>=<Fortran variable (Usually the timestep)>`\n",
    "\n",
    "For example, if there's a timestep looping region that increments the variable `currTS`, we can use that variable to create separate savepoints within that looping region.\n",
    "\n",
    "- `!$ser savepoint sp timestep=currTS`\n",
    "\n",
    "In the example below, we'll use Serialbox to create multiple savepoints within a looping region."
   ]
  },
  {
   "cell_type": "code",
   "execution_count": null,
   "metadata": {
    "vscode": {
     "languageId": "shellscript"
    }
   },
   "outputs": [],
   "source": [
    "%%bash\n",
    "\n",
    "cd $SERIALBOX_EXAMPLE_PATH\n",
    "\n",
    "if [ ! -d \"./Fortran_ts\" ]; then\n",
    "    mkdir Fortran_ts\n",
    "else\n",
    "    rm -rf Fortran_ts\n",
    "    mkdir Fortran_ts\n",
    "fi"
   ]
  },
  {
   "cell_type": "code",
   "execution_count": null,
   "metadata": {
    "vscode": {
     "languageId": "shellscript"
    }
   },
   "outputs": [],
   "source": [
    "%%writefile testSerialBox_ts.F90\n",
    "\n",
    "program testSerialBox_ts\n",
    "\n",
    "  implicit none\n",
    "\n",
    "  real, dimension(:,:,:), allocatable :: Qin_out, MASS\n",
    "  real, dimension(:,:),   allocatable :: FILLQ_out\n",
    "\n",
    "  integer :: N = 5, N_ts = 10, t\n",
    "\n",
    "  allocate(Qin_out(N,N,N), MASS(N,N,N), FILLQ_out(N,N))\n",
    "\n",
    "!$ser init directory='.' prefix='FILLQ2ZERO_SerData'\n",
    "\n",
    "  do t = 1, N_ts\n",
    "\n",
    "   call random_number(Qin_out)\n",
    "   call random_number(MASS)\n",
    "\n",
    "   where(Qin_out < 0.1) Qin_out = -Qin_out\n",
    "\n",
    "   print*, 'sum(Qin_out) = ', sum(Qin_out)\n",
    "   print*, 'sum(MASS) = ', sum(MASS)\n",
    "\n",
    "\n",
    "!$ser savepoint FILLQ2ZERO1-In timestep=t\n",
    "!$ser data q=Qin_out mass=MASS fq=FILLQ_out\n",
    "\n",
    "    call FILLQ2ZERO1(Qin_out, MASS, FILLQ_out)\n",
    "\n",
    "!$ser savepoint FILLQ2ZERO1-Out timestep=t\n",
    "!$ser data q=Qin_out mass=MASS fq=FILLQ_out\n",
    "\n",
    "!   print*, 'sum(Qin_out) = ', sum(Qin_out)\n",
    "!   print*, 'sum(FILLQ_out) = ', sum(FILLQ_out)\n",
    "\n",
    "  enddo\n",
    "  \n",
    "!$ser cleanup\n",
    "   contains\n",
    "\n",
    "  subroutine FILLQ2ZERO1( Q, MASS, FILLQ  )\n",
    "    real, dimension(:,:,:),   intent(inout)  :: Q\n",
    "    real, dimension(:,:,:),   intent(in)     :: MASS\n",
    "    real, dimension(:,:),     intent(  out)  :: FILLQ\n",
    "    integer                                  :: IM,JM,LM\n",
    "    integer                                  :: I,J,K,L\n",
    "    real                                     :: TPW, NEGTPW\n",
    "    !!!!!!!!!!!!!!!!!!!!!!!!!!!!!!!!!!!!!!!!!!!!!!!!!!!!!!!!\n",
    "    ! Fills in negative q values in a mass conserving way.\n",
    "    ! Conservation of TPW was checked.\n",
    "    !!!!!!!!!!!!!!!!!!!!!!!!!!!!!!!!!!!!!!!!!!!!!!!!!!!!!!!!\n",
    "    IM = SIZE( Q, 1 )\n",
    "    JM = SIZE( Q, 2 )\n",
    "    LM = SIZE( Q, 3 )\n",
    "    do j=1,JM\n",
    "       do i=1,IM\n",
    "          TPW = SUM( Q(i,j,:)*MASS(i,j,:) )\n",
    "          NEGTPW = 0.\n",
    "          do l=1,LM\n",
    "             if ( Q(i,j,l) < 0.0 ) then\n",
    "                NEGTPW   = NEGTPW + ( Q(i,j,l)*MASS( i,j,l ) )\n",
    "                Q(i,j,l) = 0.0\n",
    "             endif\n",
    "          enddo\n",
    "          do l=1,LM\n",
    "             if ( Q(i,j,l) >= 0.0 ) then\n",
    "                Q(i,j,l) = Q(i,j,l)*( 1.0+NEGTPW/(TPW-NEGTPW) )\n",
    "             endif\n",
    "          enddo\n",
    "          FILLQ(i,j) = -NEGTPW\n",
    "       end do\n",
    "    end do\n",
    "  end subroutine FILLQ2ZERO1\n",
    "end program"
   ]
  },
  {
   "cell_type": "code",
   "execution_count": null,
   "metadata": {
    "vscode": {
     "languageId": "shellscript"
    }
   },
   "outputs": [],
   "source": [
    "%%bash\n",
    "\n",
    "mv testSerialBox_ts.F90 $SERIALBOX_EXAMPLE_PATH/Fortran_ts\n",
    "\n",
    "cd $SERIALBOX_EXAMPLE_PATH/Fortran_ts\n",
    "if [ ! -d \"./$SAVEPOINT_NAME\" ]; then\n",
    "    mkdir $SAVEPOINT_NAME\n",
    "else\n",
    "    rm -rf $SAVEPOINT_NAME\n",
    "    mkdir $SAVEPOINT_NAME\n",
    "fi\n",
    "\n",
    "python /home/ckung/Documents/Code/SMT-Nebulae/sw_stack/discover/sles15/src/2024.03.00/install/serialbox/python/pp_ser/pp_ser.py --output-dir=./$SAVEPOINT_NAME testSerialBox_ts.F90\n",
    "\n",
    "cd $SERIALBOX_EXAMPLE_PATH/Fortran_ts/$SAVEPOINT_NAME\n",
    "\n",
    "gfortran testSerialBox_ts.F90  \\\n",
    "    $SERIALBOX_INSTALL_PATH/lib/libSerialboxFortran.a \\\n",
    "    $SERIALBOX_INSTALL_PATH/lib/libSerialboxC.a \\\n",
    "    $SERIALBOX_INSTALL_PATH/lib/libSerialboxCore.a \\\n",
    "    -lstdc++ \\\n",
    "    -DSERIALIZE \\\n",
    "    -I$SERIALBOX_INSTALL_PATH/include \\\n",
    "    -o testSerialBox_ts.bin\n",
    "\n",
    "./testSerialBox_ts.bin\n",
    "\n",
    "ls -al"
   ]
  }
 ],
 "metadata": {
  "kernelspec": {
   "display_name": "gt4py_jupyter",
   "language": "python",
   "name": "python3"
  },
  "language_info": {
   "codemirror_mode": {
    "name": "ipython",
    "version": 3
   },
   "file_extension": ".py",
   "mimetype": "text/x-python",
   "name": "python",
   "nbconvert_exporter": "python",
   "pygments_lexer": "ipython3",
   "version": "3.11.7"
  }
 },
 "nbformat": 4,
 "nbformat_minor": 2
}
