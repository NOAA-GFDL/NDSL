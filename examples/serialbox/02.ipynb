{
 "cells": [
  {
   "cell_type": "markdown",
   "metadata": {},
   "source": [
    "## **Serialbox Tutorial : Incorporating Serialbox Data from Fortran into Python**\n",
    "\n",
    "In the [previous notebook](./01.ipynb), we covered how to extract data from a Fortran code using Serialbox.  In this notebook, we'll cover how to read and incorporate those files within a Python code."
   ]
  },
  {
   "cell_type": "markdown",
   "metadata": {},
   "source": [
    "### **Notebook Requirements**\n",
    "\n",
    "- Python v3.11.x to v3.12.x\n",
    "- [NOAA/NASA Domain Specific Language Middleware](https://github.com/NOAA-GFDL/NDSL)\n",
    "- `ipykernel==6.1.0`\n",
    "- [`ipython_genutils`](https://pypi.org/project/ipython_genutils/)\n",
    "\n",
    "This notebook assumes that the code from the [previous notebook](./01.ipynb) was run, and the serialized data from Fortran was written out."
   ]
  },
  {
   "cell_type": "markdown",
   "metadata": {},
   "source": [
    "### **Importing Fortran Serialbox Data into Python** ###\n",
    "\n"
   ]
  },
  {
   "cell_type": "code",
   "execution_count": 1,
   "metadata": {},
   "outputs": [
    {
     "name": "stdout",
     "output_type": "stream",
     "text": [
      "Sum of Qin_out =  59.677578926086426\n",
      "Sum of mass =  60.20569133758545\n",
      "Sum of fq_out =  0.0\n"
     ]
    }
   ],
   "source": [
    "import sys\n",
    "# Appends the Serialbox path to PYTHONPATH.  If needed, change to appropriate path containing serialbox installation\n",
    "sys.path.append('/home/ckung/Documents/Code/SMT-Nebulae/sw_stack_path/install/serialbox/python')\n",
    "import serialbox as ser\n",
    "import numpy as np\n",
    "\n",
    "# If needed, change the path in second parameter of ser.Serializer to appropriate path that contains Fortran data via Serialbox from 01.ipynb\n",
    "serializer_in = ser.Serializer(ser.OpenModeKind.Read,\"./Fortran/sb/\",\"FILLQ2ZERO_In\")\n",
    "\n",
    "savepoints = serializer_in.savepoint_list()\n",
    "\n",
    "Qin_out = serializer_in.read(\"q\", savepoints[0])\n",
    "mass    = serializer_in.read(\"m\", savepoints[0])\n",
    "fq_out  = serializer_in.read(\"fq\", savepoints[0])\n",
    "\n",
    "print('Sum of Qin_out = ', sum(sum(sum(Qin_out))))\n",
    "print('Sum of mass = ', sum(sum(sum(mass))))\n",
    "print('Sum of fq_out = ', sum(sum(fq_out)))"
   ]
  },
  {
   "cell_type": "code",
   "execution_count": 2,
   "metadata": {},
   "outputs": [
    {
     "name": "stdout",
     "output_type": "stream",
     "text": [
      "Sum of Qin_out =  59.565123558044434\n",
      "Sum of fq_out =  0.24599997873883694\n"
     ]
    }
   ],
   "source": [
    "def fillq2zero1(Q, MASS, FILLQ):\n",
    "    IM = Q.shape[0]\n",
    "    JM = Q.shape[1]\n",
    "    LM = Q.shape[2]\n",
    "\n",
    "    TPW = np.sum(Q*MASS,2)\n",
    "    for J in range(JM):\n",
    "        for I in range(IM):\n",
    "            NEGTPW = 0.\n",
    "            for L in range(LM):\n",
    "                if(Q[I,J,L] < 0.0):\n",
    "                    NEGTPW = NEGTPW + (Q[I,J,L]*MASS[I,J,L])\n",
    "                    Q[I,J,L] = 0.0\n",
    "            for L in range(LM):\n",
    "                if(Q[I,J,L] >= 0.0):\n",
    "                    Q[I,J,L] = Q[I,J,L]*(1.0 + NEGTPW/(TPW[I,J]-NEGTPW))\n",
    "            FILLQ[I,J] = -NEGTPW\n",
    "            \n",
    "fillq2zero1(Qin_out,mass,fq_out)\n",
    "\n",
    "print('Sum of Qin_out = ', sum(sum(sum(Qin_out))))\n",
    "print('Sum of fq_out = ', sum(sum(fq_out)))"
   ]
  },
  {
   "cell_type": "code",
   "execution_count": 4,
   "metadata": {},
   "outputs": [
    {
     "name": "stdout",
     "output_type": "stream",
     "text": [
      "True\n",
      "True\n"
     ]
    }
   ],
   "source": [
    "# If needed, change the path in second parameter of ser.Serializer to appropriate path that contains Fortran data via Serialbox from 01.ipynb\n",
    "serializer_out = ser.Serializer(ser.OpenModeKind.Read,\"./Fortran/sb/\",\"FILLQ2ZERO_Out\")\n",
    "\n",
    "savepoints_ref = serializer_out.savepoint_list()\n",
    "\n",
    "Qin_out_ref = serializer_out.read(\"q_out\", savepoints_ref[0])\n",
    "mass_ref    = serializer_out.read(\"m_out\", savepoints_ref[0])\n",
    "fq_out_ref  = serializer_out.read(\"fq_out\", savepoints_ref[0])\n",
    "\n",
    "print(np.allclose(Qin_out,Qin_out_ref))\n",
    "print(np.allclose(fq_out,fq_out_ref))"
   ]
  }
 ],
 "metadata": {
  "kernelspec": {
   "display_name": "gt4py_jupyter",
   "language": "python",
   "name": "python3"
  },
  "language_info": {
   "codemirror_mode": {
    "name": "ipython",
    "version": 3
   },
   "file_extension": ".py",
   "mimetype": "text/x-python",
   "name": "python",
   "nbconvert_exporter": "python",
   "pygments_lexer": "ipython3",
   "version": "3.11.7"
  }
 },
 "nbformat": 4,
 "nbformat_minor": 2
}
