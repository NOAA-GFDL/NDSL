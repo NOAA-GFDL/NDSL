{
 "cells": [
  {
   "cell_type": "markdown",
   "metadata": {},
   "source": [
    "### Serialbox Tutorial\n",
    "\n",
    "In this notebook, we'll cover the basics to use Serialbox to extract data within a Fortran program that we'll use later to create a GT4Py port.\n",
    "\n",
    "### Notebook Requirements\n",
    "\n",
    "- Python v3.11.x to v3.12.x\n",
    "- [NOAA/NASA Domain Specific Language Middleware](https://github.com/NOAA-GFDL/NDSL)\n",
    "- `ipykernel==6.1.0`\n",
    "- [`ipython_genutils`](https://pypi.org/project/ipython_genutils/)\n",
    "- Fortran compiler that built Serialbox in `NDSL` middleware."
   ]
  },
  {
   "cell_type": "markdown",
   "metadata": {},
   "source": [
    "### Create Fortran code example\n",
    "\n",
    "The following simply creates a `Fortran` directory where we'll store the Fortran code used to demonstrate Serialbox commands."
   ]
  },
  {
   "cell_type": "code",
   "execution_count": null,
   "metadata": {
    "vscode": {
     "languageId": "shellscript"
    }
   },
   "outputs": [],
   "source": [
    "%%bash\n",
    "\n",
    "cd /home/ckung/Documents/Code/NDSL/examples/serialbox\n",
    "\n",
    "if [ ! -d \"./Fortran\" ]; then\n",
    "    mkdir Fortran\n",
    "fi\n"
   ]
  },
  {
   "cell_type": "markdown",
   "metadata": {},
   "source": [
    "Next we'll create the file `fillq2zero.F90` within the previously created `Fortran` directory."
   ]
  },
  {
   "cell_type": "code",
   "execution_count": null,
   "metadata": {
    "vscode": {
     "languageId": "shellscript"
    }
   },
   "outputs": [],
   "source": [
    "%%writefile /home/ckung/Documents/Code/NDSL/examples/serialbox/Fortran/fillq2zero.F90\n",
    "\n",
    "program testSerialBox\n",
    "\n",
    "  implicit none\n",
    "\n",
    "  real, dimension(:,:,:), allocatable :: Qin_out, MASS\n",
    "  real, dimension(:,:),   allocatable :: FILLQ_out\n",
    "\n",
    "  integer :: N = 5\n",
    "\n",
    "  allocate(Qin_out(N,N,N), MASS(N,N,N), FILLQ_out(N,N))\n",
    "\n",
    "  call random_number(Qin_out)\n",
    "  call random_number(MASS)\n",
    "\n",
    "  where(Qin_out < 0.1) Qin_out = -Qin_out\n",
    "\n",
    "  print*, 'sum(Qin_out) = ', sum(Qin_out)\n",
    "  print*, 'sum(MASS) = ', sum(MASS)\n",
    "\n",
    "\n",
    "!$ser init directory='.' prefix='FILLQ2ZERO_In'\n",
    "!$ser savepoint sp1 it=7\n",
    "!$ser mode write\n",
    "!$ser data q=Qin_out m=MASS fq=FILLQ_out\n",
    "!$ser cleanup\n",
    "\n",
    "  call FILLQ2ZERO1(Qin_out, MASS, FILLQ_out)\n",
    "\n",
    "!$ser init directory='.' prefix='FILLQ2ZERO_Out'\n",
    "!$ser savepoint sp2 it=8\n",
    "!$ser data q_out=Qin_out m_out=MASS fq_out=FILLQ_out\n",
    "\n",
    "  print*, 'sum(Qin_out) = ', sum(Qin_out)\n",
    "  print*, 'sum(FILLQ_out) = ', sum(FILLQ_out)\n",
    "\n",
    "   contains\n",
    "\n",
    "  subroutine FILLQ2ZERO1( Q, MASS, FILLQ  )\n",
    "    real, dimension(:,:,:),   intent(inout)  :: Q\n",
    "    real, dimension(:,:,:),   intent(in)     :: MASS\n",
    "    real, dimension(:,:),     intent(  out)  :: FILLQ\n",
    "    integer                                  :: IM,JM,LM\n",
    "    integer                                  :: I,J,K,L\n",
    "    real                                     :: TPW, NEGTPW\n",
    "    !!!!!!!!!!!!!!!!!!!!!!!!!!!!!!!!!!!!!!!!!!!!!!!!!!!!!!!!\n",
    "    ! Fills in negative q values in a mass conserving way.\n",
    "    ! Conservation of TPW was checked.\n",
    "    !!!!!!!!!!!!!!!!!!!!!!!!!!!!!!!!!!!!!!!!!!!!!!!!!!!!!!!!\n",
    "    IM = SIZE( Q, 1 )\n",
    "    JM = SIZE( Q, 2 )\n",
    "    LM = SIZE( Q, 3 )\n",
    "    do j=1,JM\n",
    "       do i=1,IM\n",
    "          TPW = SUM( Q(i,j,:)*MASS(i,j,:) )\n",
    "          NEGTPW = 0.\n",
    "          do l=1,LM\n",
    "             if ( Q(i,j,l) < 0.0 ) then\n",
    "                NEGTPW   = NEGTPW + ( Q(i,j,l)*MASS( i,j,l ) )\n",
    "                Q(i,j,l) = 0.0\n",
    "             endif\n",
    "          enddo\n",
    "          do l=1,LM\n",
    "             if ( Q(i,j,l) >= 0.0 ) then\n",
    "                Q(i,j,l) = Q(i,j,l)*( 1.0+NEGTPW/(TPW-NEGTPW) )\n",
    "             endif\n",
    "          enddo\n",
    "          FILLQ(i,j) = -NEGTPW\n",
    "       end do\n",
    "    end do\n",
    "  end subroutine FILLQ2ZERO1\n",
    "end program"
   ]
  },
  {
   "cell_type": "markdown",
   "metadata": {},
   "source": [
    "The next step is to run `pp_ser.py`, which will replace the `!ser` directive statements will the appropriate Fortran Serialbox calls and write a new `fillq2zero.F90` file into the directory `sb`."
   ]
  },
  {
   "cell_type": "code",
   "execution_count": null,
   "metadata": {
    "vscode": {
     "languageId": "shellscript"
    }
   },
   "outputs": [],
   "source": [
    "%%bash\n",
    "\n",
    "cd /home/ckung/Documents/Code/NDSL/examples/serialbox/Fortran\n",
    "if [ ! -d \"./sb\" ]; then\n",
    "    mkdir sb\n",
    "fi\n",
    "\n",
    "python /home/ckung/Documents/Code/SMT-Nebulae/sw_stack/discover/sles15/src/2024.03.00/install/serialbox/python/pp_ser/pp_ser.py --output-dir=./sb fillq2zero.F90"
   ]
  },
  {
   "cell_type": "markdown",
   "metadata": {},
   "source": [
    "We can go in the `sb` directory and find a `fillq2zero.F90` file that contains the appropriate Serialbox calls.  Building the code with Serialbox enabled requires the following during compilation:\n",
    "\n",
    "- Referencing to the following libraries\n",
    "    - `libSerialboxFortran.a`\n",
    "    - `libSerialboxC.a`\n",
    "    - `libSerialboxCore.a`\n",
    "    - `-lstdc++`\n",
    "- The `-DSERIALIZE` macro\n",
    "- Adding the Serialbox `include` path\n",
    "\n",
    "The compilation line looks as follows."
   ]
  },
  {
   "cell_type": "code",
   "execution_count": null,
   "metadata": {
    "vscode": {
     "languageId": "shellscript"
    }
   },
   "outputs": [],
   "source": [
    "%%bash\n",
    "\n",
    "cd /home/ckung/Documents/Code/NDSL/examples/serialbox/Fortran/sb\n",
    "gfortran fillq2zero.F90  \\\n",
    "    /home/ckung/Documents/Code/SMT-Nebulae/sw_stack_path/install/serialbox/lib/libSerialboxFortran.a \\\n",
    "    /home/ckung/Documents/Code/SMT-Nebulae/sw_stack_path/install/serialbox/lib/libSerialboxC.a \\\n",
    "    /home/ckung/Documents/Code/SMT-Nebulae/sw_stack_path/install/serialbox/lib/libSerialboxCore.a \\\n",
    "    -lstdc++ \\\n",
    "    -DSERIALIZE \\\n",
    "    -I/home/ckung/Documents/Code/SMT-Nebulae/sw_stack_path/install/serialbox/include \\\n",
    "    -o FILLQ2ZERO.bin\n"
   ]
  },
  {
   "cell_type": "markdown",
   "metadata": {},
   "source": [
    "Execute Code."
   ]
  },
  {
   "cell_type": "code",
   "execution_count": null,
   "metadata": {
    "vscode": {
     "languageId": "shellscript"
    }
   },
   "outputs": [],
   "source": [
    "%%bash\n",
    "\n",
    "cd /home/ckung/Documents/Code/NDSL/examples/serialbox/Fortran/sb\n",
    "./FILLQ2ZERO.bin"
   ]
  }
 ],
 "metadata": {
  "kernelspec": {
   "display_name": "gt4py_jupyter",
   "language": "python",
   "name": "python3"
  },
  "language_info": {
   "codemirror_mode": {
    "name": "ipython",
    "version": 3
   },
   "file_extension": ".py",
   "mimetype": "text/x-python",
   "name": "python",
   "nbconvert_exporter": "python",
   "pygments_lexer": "ipython3",
   "version": "3.11.7"
  }
 },
 "nbformat": 4,
 "nbformat_minor": 2
}
