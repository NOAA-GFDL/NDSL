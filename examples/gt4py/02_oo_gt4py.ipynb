{
 "cells": [
  {
   "cell_type": "markdown",
   "metadata": {},
   "source": [
    "### Creating the `StencilFactory` object\n",
    "\n",
    "The `boilerplate` module contains a function `get_one_tile_factory` that takes the domain size and backend of interest and creates. a `StencilFactory` object.  The `StencilFactory` object will be used later to \"build and execute\" the stencil."
   ]
  },
  {
   "cell_type": "code",
   "execution_count": null,
   "metadata": {},
   "outputs": [],
   "source": [
    "from boilerplate import get_one_tile_factory, plot_field_at_k0\n",
    "from ndsl import StencilFactory\n",
    "\n",
    "nx = 6\n",
    "ny = 6\n",
    "nz = 1\n",
    "nhalo = 1\n",
    "backend=\"numpy\"\n",
    "\n",
    "stencil_factory: StencilFactory = get_one_tile_factory(nx, ny, nz, nhalo, backend)"
   ]
  },
  {
   "cell_type": "markdown",
   "metadata": {},
   "source": [
    "### Creating the Copy stencil\n",
    "\n",
    "The `NDSL` and `gt4py` module contain key terms that will be used to create the stencil.  \n",
    "\n",
    "- `FloatField` : This type can generally can be thought of as a `gt4py` 3-dimensional `numpy` array of floating point values.\n",
    "\n",
    "- `computation(PARALLEL)` : This keyword combination means that there is no assumed order to perform calcuations in the `k` (3rd) dimension of a `gt4py` storage.  `PARALLEL` can be replaced by `FORWARD` or `BACKWARD`. for serialized calculations in the `k` dimension.\n",
    "\n",
    "- `interval(...)` : This keyword specifies the range of computation in the `k` dimension.  \n",
    "\n",
    "Since stencil calculations generally are based localized computations, `gt4py` stencils are written using variables and their relative location.  If there are no indices in brackets next to a `gt4py` type, it's implied to be at the [0] (for 1-dimension), [0,0] (for 2-dimension), or [0,0,0] (for 3-dimension) location.  For the simple example `copy_field_stencil`, the value of `field_in` simply gets copied to `field_out` at every point in the domain of interest."
   ]
  },
  {
   "cell_type": "code",
   "execution_count": null,
   "metadata": {},
   "outputs": [],
   "source": [
    "from ndsl.dsl.typing import FloatField\n",
    "from gt4py.cartesian.gtscript import PARALLEL, computation, interval\n",
    "\n",
    "def copy_field_stencil(field_in: FloatField, field_out: FloatField):\n",
    "    with computation(PARALLEL), interval(...):\n",
    "        field_out = field_in"
   ]
  },
  {
   "cell_type": "markdown",
   "metadata": {},
   "source": [
    "## Creating a class that performs the stencil computation\n",
    "\n",
    "Using the `StencilFactory` object created earlier, the code will now create a class `CopyField` that takes `copy_field_stencil` and defines the computation domain from the parameters `origin` and `domain` within `__init__`. `origin` indicates the \"starting\" point of the stencil calculation, and `domain` indicates the extent of the stencil calculation in the 3 dimensions.  Note that when creating `stencil_factory`, a 6 by 6 by 1 sized domain surrounded with a halo layer of size 1 was defined.  Thus, whenever a `CopyField` object is created, it will perform calcuations within the 6 by 6 by 1 domain (specified by `grid_indexing.domain_compute()`), and the 'origin' will start at the [0,0,0] location of the 6 by 6 by 1 grid."
   ]
  },
  {
   "cell_type": "code",
   "execution_count": null,
   "metadata": {},
   "outputs": [],
   "source": [
    "class CopyField:\n",
    "    def __init__(self, stencil_factory: StencilFactory):\n",
    "        grid_indexing = stencil_factory.grid_indexing\n",
    "        self._copy_field = stencil_factory.from_origin_domain(\n",
    "            copy_field_stencil, # <-- gt4py stencil function wrapped into NDSL\n",
    "            origin=grid_indexing.origin_compute(),\n",
    "            domain=grid_indexing.domain_compute(),\n",
    "        )\n",
    "\n",
    "    def __call__( # <-- Runtime path\n",
    "        self,\n",
    "        field_in: FloatField,\n",
    "        field_out: FloatField,\n",
    "    ):\n",
    "        self._copy_field(field_in, field_out)\n",
    "        \n",
    "        \n",
    "copy_field = CopyField(stencil_factory)"
   ]
  },
  {
   "cell_type": "markdown",
   "metadata": {},
   "source": [
    "## Allocating arrays in `gt4py`\n",
    "\n",
    "The next code section will create arrays similar to a `numpy` array using `gt_storage`.  A array can be initialized to zero using `gt_storage.zeros()` or be defined using a `numpy` array and passed in using the `gt_storage.from_array()` call. `qty_in` will be defined with a checker board pattern, and `qty_out` will be an array of zeros."
   ]
  },
  {
   "cell_type": "code",
   "execution_count": null,
   "metadata": {},
   "outputs": [],
   "source": [
    "## Change this to Quantity\n",
    "\n",
    "import gt4py.storage as gt_storage\n",
    "import numpy as np\n",
    "\n",
    "size = (nx + 2 * nhalo) * (ny + 2 * nhalo) * nz\n",
    "shape = (nx + 2 * nhalo, ny + 2 * nhalo, nz)\n",
    "\n",
    "\n",
    "qty_zero = gt_storage.zeros(\n",
    "    backend=backend,\n",
    "    dtype=float,\n",
    "    shape=shape,\n",
    ")\n",
    "\n",
    "qty_out = gt_storage.zeros(\n",
    "    backend=backend,\n",
    "    dtype=float,\n",
    "    shape=shape,\n",
    ")\n",
    "\n",
    "arr = np.zeros(shape)\n",
    "qty_in = gt_storage.from_array(\n",
    "    data=np.indices(shape).sum(axis=0),# % 2,\n",
    "    backend=backend,\n",
    "    dtype=float,\n",
    ")\n",
    "\n",
    "plot_field_at_k0(qty_in)\n",
    "plot_field_at_k0(qty_out)\n"
   ]
  },
  {
   "cell_type": "markdown",
   "metadata": {},
   "source": [
    "## Calling `copy_field` stencil\n",
    "\n",
    "The code will call `copy_field` to execute `copy_field_stencil` using the previously defined `gt_storage` arrays.  Note that there are no nested loops involved since the `CopyField` class contains all the information on applying the stencil.  From the plot at `k = 0`, we see that the copy is only applied to the inner 6 by 6 area and not the entire domain.  The stencil in this case only applies in this \"domain\" and not the \"halo\" region surrounding the domain.  The first plot can confirm that only the inner 6 by 6 portion of `qty_in` has copied over to `qty_out` since the maximum value is `12.0`.  "
   ]
  },
  {
   "cell_type": "code",
   "execution_count": null,
   "metadata": {},
   "outputs": [],
   "source": [
    "copy_field(qty_in, qty_out)\n",
    "plot_field_at_k0(qty_out)"
   ]
  },
  {
   "cell_type": "markdown",
   "metadata": {},
   "source": [
    "## Applying a J offset to the copy stencil\n",
    "\n",
    "The next example will create a stencil that takes a `gt_storage` as an input, shift the input by 1 in the `-j` direction, and write it to an output `gt_storage`.  This stencil is defined in `copy_field_offset_stencil`.\n",
    "\n",
    "Note that in `copy_field_offset_stencil`, the shift in the J dimension is performed by referencing the `J` object from `gt4py.cartesian.gtscript` for simplicity.  This reference will apply the shift in J to the entire input domain.  Another potential way to perform the shift without referencing the `J` object is to write `[0,-1,0]` (assuming that the variable being modified is 3-dimensional) instead of `[J-1]`.\n",
    "\n",
    "With the stencil in place, a class `CopyFieldOffset` is defined using the `StencilFactory` object and `copy_field_offset_stencil`.  The class is instantiated and demonstrated to shift `qty_in` by 1 in the J-dimension and write to `qty_out`."
   ]
  },
  {
   "cell_type": "code",
   "execution_count": null,
   "metadata": {},
   "outputs": [],
   "source": [
    "from gt4py.cartesian.gtscript import J\n",
    "\n",
    "def copy_field_offset_stencil(field_in: FloatField, field_out: FloatField):\n",
    "    with computation(PARALLEL), interval(...):\n",
    "        field_out = field_in[J+1]\n",
    "        \n",
    "class CopyFieldOffset:\n",
    "    def __init__(self, stencil_factory: StencilFactory):\n",
    "        grid_indexing = stencil_factory.grid_indexing\n",
    "        self._copy_field_offset = stencil_factory.from_origin_domain(\n",
    "            copy_field_offset_stencil,\n",
    "            origin=grid_indexing.origin_compute(),\n",
    "            domain=grid_indexing.domain_compute(),\n",
    "        )\n",
    "\n",
    "    def __call__(\n",
    "        self,\n",
    "        field_in: FloatField,\n",
    "        field_out: FloatField,\n",
    "    ):\n",
    "        self._copy_field_offset(field_in, field_out)\n",
    "        \n",
    "copy_field_offset = CopyFieldOffset(stencil_factory)\n",
    "        \n",
    "copy_field(qty_zero, qty_out)\n",
    "plot_field_at_k0(qty_out)"
   ]
  },
  {
   "cell_type": "code",
   "execution_count": null,
   "metadata": {},
   "outputs": [],
   "source": [
    "plot_field_at_k0(qty_out)\n",
    "copy_field_offset(qty_in, qty_out)\n",
    "plot_field_at_k0(qty_out)"
   ]
  },
  {
   "cell_type": "markdown",
   "metadata": {},
   "source": [
    "### Limits to offset : Cannot set offset outside of usable domain"
   ]
  },
  {
   "cell_type": "markdown",
   "metadata": {},
   "source": [
    "### Show different origin/domain impacts"
   ]
  },
  {
   "cell_type": "markdown",
   "metadata": {},
   "source": [
    "## Example demonstrating error when writing to offset outputs\n",
    "\n",
    "While offsets can be applied to all input `gt_storage` variables in `gt4py`, output `gt_storage` varaibles cannot have such offsets.  When an offset is applied to an output stencil calcuation, the error `GTScriptSyntaxError: Assignment to non-zero offsets is not supported.` will be displayed."
   ]
  },
  {
   "cell_type": "code",
   "execution_count": null,
   "metadata": {},
   "outputs": [],
   "source": [
    "from gt4py.cartesian.gtscript import J\n",
    "\n",
    "def copy_field_offset_output_stencil(field_in: FloatField, field_out: FloatField):\n",
    "    with computation(PARALLEL), interval(...):\n",
    "        field_out[0,1,0] = field_in\n",
    "        \n",
    "class CopyFieldOffsetOutput:\n",
    "    def __init__(self, stencil_factory: StencilFactory):\n",
    "        grid_indexing = stencil_factory.grid_indexing\n",
    "        self._copy_field_offset_output = stencil_factory.from_origin_domain(\n",
    "            copy_field_offset_output_stencil,\n",
    "            origin=grid_indexing.origin_compute(),\n",
    "            domain=grid_indexing.domain_compute(),\n",
    "        )\n",
    "\n",
    "    def __call__(\n",
    "        self,\n",
    "        field_in: FloatField,\n",
    "        field_out: FloatField,\n",
    "    ):\n",
    "        self._copy_field_offset_output(field_in, field_out)\n",
    "        \n",
    "copy_field_offset_output = CopyFieldOffsetOutput(stencil_factory)\n",
    "        "
   ]
  }
 ],
 "metadata": {
  "kernelspec": {
   "display_name": "gt4py_jupyter",
   "language": "python",
   "name": "python3"
  },
  "language_info": {
   "codemirror_mode": {
    "name": "ipython",
    "version": 3
   },
   "file_extension": ".py",
   "mimetype": "text/x-python",
   "name": "python",
   "nbconvert_exporter": "python",
   "pygments_lexer": "ipython3",
   "version": "3.11.7"
  }
 },
 "nbformat": 4,
 "nbformat_minor": 2
}
