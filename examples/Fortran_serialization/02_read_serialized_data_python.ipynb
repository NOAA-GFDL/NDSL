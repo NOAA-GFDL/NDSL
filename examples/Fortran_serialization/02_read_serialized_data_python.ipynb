{
 "cells": [
  {
   "cell_type": "markdown",
   "metadata": {},
   "source": [
    "## **Serialbox Tutorial : Incorporating Fortran Serialbox Data into Python**\n",
    "\n",
    "In the [previous notebook](./01_serialize_fortran_data.ipynb), we covered how to extract data from a Fortran code using Serialbox.  In this notebook, we'll cover how to read and incorporate those files within a Python code."
   ]
  },
  {
   "cell_type": "markdown",
   "metadata": {},
   "source": [
    "### **Notebook Requirements**\n",
    "\n",
    "- Python v3.11.x to v3.12.x\n",
    "- [NOAA/NASA Domain Specific Language Middleware](https://github.com/NOAA-GFDL/NDSL)\n",
    "- `ipykernel==6.1.0`\n",
    "- [`ipython_genutils`](https://pypi.org/project/ipython_genutils/)\n",
    "\n",
    "This notebook assumes that the code from the [previous notebook](./01_serialize_fortran_data.ipynb) was run, and the serialized data from Fortran was written out."
   ]
  },
  {
   "cell_type": "markdown",
   "metadata": {},
   "source": [
    "### **Importing Fortran Serialbox Data From Example 1 into Python** ###\n",
    "\n",
    "We'll step through importing Serialbox data [created in Fortran](./01_serialize_fortran_data.ipynb#Serialbox-Example-1) into Python to test a Python port of `FILLQ2ZERO1`.  Importing Serialbox data into Python essentially comes from opening a file via a \"serializer\" object denoted by a particular Serialbox initialization prefix (see [Serialbox directive calls in Fortran code](./01_serialize_fortran_data.ipynb#Serialbox-directive-calls-in-Fortran-code)) and stepping through the savepoints within the \"serializer\" object to read the data.  This is done by the following Python calls assuming that the imported `serialbox` package is referenced via `ser`.\n",
    "\n",
    "- `ser.Serializer(ser.OpenModeKind.Read,\"<Path to Serialbox Data>\", \"<Name of prefix used during Serialbox initialization>\")` : This function call creates a \"serializer\" object that will read Serialbox files within a declared path and reference data from a particular Serialbox initialization prefix.\n",
    "\n",
    "- `serializer.savepoint_list()` : Using a \"serializer\" object called `serializer`, this function call creates a list of Serialbox savepoints\n",
    "\n",
    "- `serializer.read(\"<Serialbox variable name>\", <Savepoint from savepoint list>)` : Using a \"serializer\" object called `serializer`, this function call will look for the specified Serialbox variable name from the savepoint list and output that variable.\n",
    "\n",
    "Below is a Python example that uses these three calls to import the [Example 1](./01_serialize_fortran_data.ipynb#Serialbox-Example-1) Fortran data into Python.  You can check to see that the summation of the arrays with Python match closely with the [values presented in Fortran](./01_serialize_fortran_data.ipynb#Building-and-Running-Fortran-code-with-Serialbox-library)."
   ]
  },
  {
   "cell_type": "code",
   "execution_count": 1,
   "metadata": {},
   "outputs": [
    {
     "name": "stdout",
     "output_type": "stream",
     "text": [
      "Sum of Qin_out =  57.30306911468506\n",
      "Sum of mass =  65.57122611999512\n",
      "Sum of fq_out =  0.0\n"
     ]
    }
   ],
   "source": [
    "import sys\n",
    "# Appends the Serialbox python path to PYTHONPATH.  If needed, change to appropriate path containing serialbox installation\n",
    "sys.path.append('/home/ckung/Documents/Code/SMT-Nebulae/sw_stack_path/install/serialbox/python')\n",
    "import serialbox as ser\n",
    "import numpy as np\n",
    "\n",
    "# If needed, change the path in second parameter of ser.Serializer to appropriate path that contains Fortran data via Serialbox from 01.ipynb\n",
    "serializer = ser.Serializer(ser.OpenModeKind.Read,\"./Fortran/sb/\",\"FILLQ2ZERO_InOut\")\n",
    "\n",
    "savepoints = serializer.savepoint_list()\n",
    "\n",
    "Qin_out = serializer.read(\"q_in\", savepoints[0])\n",
    "mass    = serializer.read(\"m_in\", savepoints[0])\n",
    "fq_out  = serializer.read(\"fq_in\", savepoints[0])\n",
    "\n",
    "print('Sum of Qin_out = ', sum(sum(sum(Qin_out))))\n",
    "print('Sum of mass = ', sum(sum(sum(mass))))\n",
    "print('Sum of fq_out = ', sum(sum(fq_out)))"
   ]
  },
  {
   "cell_type": "markdown",
   "metadata": {},
   "source": [
    "Next, we'll create a rudimentary port of `fillq2zero1` and test whether or not it computes properly by comparing the output arrays `Qin_out` and `fq_out` to the corresonding arrays created from Fortran, which are retrieved using `serializer.read()`.  In this example, the comparison between the Fortran and Python data is performed using `np.allclose`; however, note that the proper metric of comparison will depend on the application.  We'll see that `np.allclose()` will report `True` for both the `Qin_out` and `fq_out` array comparisons. "
   ]
  },
  {
   "cell_type": "code",
   "execution_count": 2,
   "metadata": {},
   "outputs": [
    {
     "name": "stdout",
     "output_type": "stream",
     "text": [
      "Sum of Qin_out =  57.2715950012207\n",
      "Sum of fq_out =  0.36869711382314563\n",
      "True\n",
      "True\n"
     ]
    }
   ],
   "source": [
    "def fillq2zero1(Q, MASS, FILLQ):\n",
    "    IM = Q.shape[0]\n",
    "    JM = Q.shape[1]\n",
    "    LM = Q.shape[2]\n",
    "\n",
    "    TPW = np.sum(Q*MASS,2)\n",
    "    for J in range(JM):\n",
    "        for I in range(IM):\n",
    "            NEGTPW = 0.\n",
    "            for L in range(LM):\n",
    "                if(Q[I,J,L] < 0.0):\n",
    "                    NEGTPW = NEGTPW + (Q[I,J,L]*MASS[I,J,L])\n",
    "                    Q[I,J,L] = 0.0\n",
    "            for L in range(LM):\n",
    "                if(Q[I,J,L] >= 0.0):\n",
    "                    Q[I,J,L] = Q[I,J,L]*(1.0 + NEGTPW/(TPW[I,J]-NEGTPW))\n",
    "            FILLQ[I,J] = -NEGTPW\n",
    "            \n",
    "fillq2zero1(Qin_out,mass,fq_out)\n",
    "\n",
    "print('Sum of Qin_out = ', sum(sum(sum(Qin_out))))\n",
    "print('Sum of fq_out = ', sum(sum(fq_out)))\n",
    "\n",
    "Qin_out_ref = serializer.read(\"q_out\", savepoints[0])\n",
    "mass_ref    = serializer.read(\"m_out\", savepoints[0])\n",
    "fq_out_ref  = serializer.read(\"fq_out\", savepoints[0])\n",
    "\n",
    "print(np.allclose(Qin_out,Qin_out_ref))\n",
    "print(np.allclose(fq_out,fq_out_ref))"
   ]
  },
  {
   "cell_type": "markdown",
   "metadata": {},
   "source": [
    "### **Importing Fortran Data from Example 2 into Python : Looping Regions** ###\n",
    "\n",
    "In [Example 2](./01_serialize_fortran_data.ipynb#Serialbox-Example-2), Serialbox was set up to record data within a looping region.  This results in a larger list of savepoints that we can step through in Python to recreating the looping process done in Fortran.  The code below replicates the looping of `FILLQ2ZERO1` and reads multiple savepoints to intialize the data and compare outputs."
   ]
  },
  {
   "cell_type": "code",
   "execution_count": 3,
   "metadata": {},
   "outputs": [
    {
     "name": "stdout",
     "output_type": "stream",
     "text": [
      "Current savepoint =  sp1 {\"timestep\": 1, \"ID\": 1}\n",
      "SUM(Qin_out) =  63.43995475769043\n",
      "True\n",
      "True\n",
      "Current savepoint =  sp1 {\"timestep\": 2, \"ID\": 2}\n",
      "SUM(Qin_out) =  59.70357894897461\n",
      "True\n",
      "True\n",
      "Current savepoint =  sp1 {\"timestep\": 3, \"ID\": 3}\n",
      "SUM(Qin_out) =  59.850998878479004\n",
      "True\n",
      "True\n",
      "Current savepoint =  sp1 {\"timestep\": 4, \"ID\": 4}\n",
      "SUM(Qin_out) =  62.012206077575684\n",
      "True\n",
      "True\n",
      "Current savepoint =  sp1 {\"timestep\": 5, \"ID\": 5}\n",
      "SUM(Qin_out) =  60.80107021331787\n",
      "True\n",
      "True\n",
      "Current savepoint =  sp1 {\"timestep\": 6, \"ID\": 6}\n",
      "SUM(Qin_out) =  60.730340003967285\n",
      "True\n",
      "True\n",
      "Current savepoint =  sp1 {\"timestep\": 7, \"ID\": 7}\n",
      "SUM(Qin_out) =  61.0941276550293\n",
      "True\n",
      "True\n",
      "Current savepoint =  sp1 {\"timestep\": 8, \"ID\": 8}\n",
      "SUM(Qin_out) =  59.69675540924072\n",
      "True\n",
      "True\n",
      "Current savepoint =  sp1 {\"timestep\": 9, \"ID\": 9}\n",
      "SUM(Qin_out) =  67.9124870300293\n",
      "True\n",
      "True\n",
      "Current savepoint =  sp1 {\"timestep\": 10, \"ID\": 10}\n",
      "SUM(Qin_out) =  60.42111110687256\n",
      "True\n",
      "True\n"
     ]
    }
   ],
   "source": [
    "# If needed, change the path in second parameter of ser.Serializer to appropriate path that contains Fortran data via Serialbox from 01.ipynb\n",
    "serializer = ser.Serializer(ser.OpenModeKind.Read,\"./Fortran_ts/sb/\",\"FILLQ2ZERO_InOut\")\n",
    "\n",
    "savepoints = serializer.savepoint_list()\n",
    "\n",
    "for currentSavepoint in savepoints:\n",
    "    Qin_out = serializer.read(\"q_in\", currentSavepoint)\n",
    "    mass    = serializer.read(\"m_in\", currentSavepoint)\n",
    "    fq_out  = serializer.read(\"fq_in\", currentSavepoint)\n",
    "\n",
    "    fillq2zero1(Qin_out,mass,fq_out)\n",
    "\n",
    "    Qin_out_ref = serializer.read(\"q_out\", currentSavepoint)\n",
    "    mass_ref    = serializer.read(\"m_out\", currentSavepoint)\n",
    "    fq_out_ref  = serializer.read(\"fq_out\", currentSavepoint)\n",
    "\n",
    "    print('Current savepoint = ', currentSavepoint)\n",
    "    print('SUM(Qin_out) = ', sum(sum(sum(Qin_out))))\n",
    "    print(np.allclose(Qin_out,Qin_out_ref))\n",
    "    print(np.allclose(fq_out,fq_out_ref))"
   ]
  }
 ],
 "metadata": {
  "kernelspec": {
   "display_name": "gt4py_jupyter",
   "language": "python",
   "name": "python3"
  },
  "language_info": {
   "codemirror_mode": {
    "name": "ipython",
    "version": 3
   },
   "file_extension": ".py",
   "mimetype": "text/x-python",
   "name": "python",
   "nbconvert_exporter": "python",
   "pygments_lexer": "ipython3",
   "version": "3.11.7"
  }
 },
 "nbformat": 4,
 "nbformat_minor": 2
}
