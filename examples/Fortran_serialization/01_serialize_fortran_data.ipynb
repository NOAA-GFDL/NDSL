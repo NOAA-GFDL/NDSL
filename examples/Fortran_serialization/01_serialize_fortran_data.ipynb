{
 "cells": [
  {
   "cell_type": "markdown",
   "metadata": {},
   "source": [
    "## **Serialbox Tutorial : Serializing Fortran Data**\n",
    "\n",
    "This notebook will cover the basics on extracting data within a Fortran program using [Serialbox](https://gridtools.github.io/serialbox/).\n",
    "\n",
    "### **Notebook Requirements**\n",
    "\n",
    "- Python v3.11.x to v3.12.x\n",
    "- [NOAA/NASA Domain Specific Language Middleware](https://github.com/NOAA-GFDL/NDSL)\n",
    "- `ipykernel==6.1.0`\n",
    "- [`ipython_genutils`](https://pypi.org/project/ipython_genutils/)\n",
    "- Fortran compiler that built Serialbox in the `NDSL` middleware (Note: The default build instructions for `NDSL` builds Serialbox such that it outputs to binary data files from Fortran.  Serialbox has compiler options that enable it to write netCDF files.)"
   ]
  },
  {
   "cell_type": "markdown",
   "metadata": {},
   "source": [
    "### **Brief Serialbox Overview**\n",
    "\n",
    "[Serialbox](https://gridtools.github.io/serialbox/) is a library that can extract data from Fortran programs for use in code porting and verification.  It uses directive-based code statements that are translated later into actual Serialbox library calls, which makes it approachable to use.  Extracting data from a Fortran program using Serialbox essentially follows these steps.\n",
    "\n",
    "1) Initialize Serialbox\n",
    "2) Create a savepoint\n",
    "3) Save the data of interest\n",
    "4) \"Clean up\" the savepoint\n",
    "\n",
    "These four steps corrolate to the following directives in Serialbox.\n",
    "\n",
    "1) `!$ser init directory='<Directory Path to store Serialbox data>' prefix='<Name of Data Group>'`\n",
    "2) `!$ser savepoint <Name of Savepoint>`\n",
    "3) `!$ser data <Serialbox Variable Name>=<Fortran Variable Name>`\n",
    "4) `!$ser cleanup`\n",
    "\n",
    "Note that in 3, multiple variables can be specified (ex: `!$ser data serialA=fortranA serialB=fortranB serialC=fortranC`)"
   ]
  },
  {
   "cell_type": "markdown",
   "metadata": {},
   "source": [
    "### **Serialbox Example 1**\n",
    "\n",
    "We'll step through a basic example that extracts data from a Fortran code using Serialbox.\n",
    "\n",
    "The following sets the environment variables `SERIALBOX_EXAMPLE_PATH` and `SERIALBOX_INSTALL_PATH`.  Afterwards, a Bash script issues commands that create a `Fortran` directory within `SERIALBOX_EXAMPLE_PATH` that will store the Fortran code used to demonstrate Serialbox commands.  Be sure to change the environment variables `SERIALBOX_EXAMPLE_PATH` and `SERIALBOX_INSTALL_PATH` to ones that're appropriate for your machine."
   ]
  },
  {
   "cell_type": "code",
   "execution_count": 1,
   "metadata": {
    "vscode": {
     "languageId": "shellscript"
    }
   },
   "outputs": [
    {
     "name": "stdout",
     "output_type": "stream",
     "text": [
      "env: SERIALBOX_EXAMPLE_PATH=/home/ckung/Documents/Code/SMT-Nebulae-Tutorial/tutorial/Fortran_porting\n",
      "env: SERIALBOX_INSTALL_PATH=/home/ckung/Documents/Code/SMT-Nebulae/sw_stack_path/install/serialbox/\n"
     ]
    }
   ],
   "source": [
    "# Change SERIALBOX_EXAMPLE_PATH and SERIALBOX_INSTALL_PATH to appropriate paths\n",
    "%env SERIALBOX_EXAMPLE_PATH=/home/ckung/Documents/Code/SMT-Nebulae-Tutorial/tutorial/Fortran_porting\n",
    "%env SERIALBOX_INSTALL_PATH=/home/ckung/Documents/Code/SMT-Nebulae/sw_stack_path/install/serialbox/"
   ]
  },
  {
   "cell_type": "code",
   "execution_count": 2,
   "metadata": {
    "vscode": {
     "languageId": "shellscript"
    }
   },
   "outputs": [],
   "source": [
    "%%bash\n",
    "\n",
    "cd $SERIALBOX_EXAMPLE_PATH\n",
    "\n",
    "if [ ! -d \"./Fortran\" ]; then\n",
    "    mkdir Fortran\n",
    "else\n",
    "    rm -rf Fortran\n",
    "    mkdir Fortran\n",
    "fi"
   ]
  },
  {
   "cell_type": "markdown",
   "metadata": {},
   "source": [
    "#### **Serialbox directive calls in Fortran code**\n",
    "\n",
    "Next we'll issue commands that create and write the file `testSerialBox.F90` and move it to the previously created `Fortran` directory. This file will contain the Fortran program `testSerialBox` that allocates three arrays, writes random numbers into two arrays (`Qin_out`, `MASS`), and passes the arrays into the subroutine `FILLQ2ZERO1`."
   ]
  },
  {
   "cell_type": "code",
   "execution_count": 3,
   "metadata": {
    "vscode": {
     "languageId": "shellscript"
    }
   },
   "outputs": [
    {
     "name": "stdout",
     "output_type": "stream",
     "text": [
      "Writing testSerialBox.F90\n"
     ]
    }
   ],
   "source": [
    "%%writefile testSerialBox.F90\n",
    "\n",
    "program testSerialBox\n",
    "\n",
    "  implicit none\n",
    "\n",
    "  real, dimension(:,:,:), allocatable :: Qin_out, MASS\n",
    "  real, dimension(:,:),   allocatable :: FILLQ_out\n",
    "\n",
    "  integer :: N = 5\n",
    "\n",
    "  allocate(Qin_out(N,N,N), MASS(N,N,N), FILLQ_out(N,N))\n",
    "\n",
    "  call random_number(Qin_out)\n",
    "  call random_number(MASS)\n",
    "\n",
    "  where(Qin_out < 0.1) Qin_out = -Qin_out\n",
    "\n",
    "  print*, 'sum(Qin_out) = ', sum(Qin_out)\n",
    "  print*, 'sum(MASS) = ', sum(MASS)\n",
    "\n",
    "\n",
    "!$ser init directory='.' prefix='FILLQ2ZERO_InOut'\n",
    "!$ser savepoint sp1\n",
    "!$ser mode write\n",
    "!$ser data q_in=Qin_out m_in=MASS fq_in=FILLQ_out\n",
    "\n",
    "  call FILLQ2ZERO1(Qin_out, MASS, FILLQ_out)\n",
    "\n",
    "!$ser data q_out=Qin_out m_out=MASS fq_out=FILLQ_out\n",
    "!$ser cleanup\n",
    "  print*, 'sum(Qin_out) = ', sum(Qin_out)\n",
    "  print*, 'sum(FILLQ_out) = ', sum(FILLQ_out)\n",
    "\n",
    "   contains\n",
    "\n",
    "  subroutine FILLQ2ZERO1( Q, MASS, FILLQ  )\n",
    "    real, dimension(:,:,:),   intent(inout)  :: Q\n",
    "    real, dimension(:,:,:),   intent(in)     :: MASS\n",
    "    real, dimension(:,:),     intent(  out)  :: FILLQ\n",
    "    integer                                  :: IM,JM,LM\n",
    "    integer                                  :: I,J,K,L\n",
    "    real                                     :: TPW, NEGTPW\n",
    "    !!!!!!!!!!!!!!!!!!!!!!!!!!!!!!!!!!!!!!!!!!!!!!!!!!!!!!!!\n",
    "    ! Fills in negative q values in a mass conserving way.\n",
    "    ! Conservation of TPW was checked.\n",
    "    !!!!!!!!!!!!!!!!!!!!!!!!!!!!!!!!!!!!!!!!!!!!!!!!!!!!!!!!\n",
    "    IM = SIZE( Q, 1 )\n",
    "    JM = SIZE( Q, 2 )\n",
    "    LM = SIZE( Q, 3 )\n",
    "    do j=1,JM\n",
    "       do i=1,IM\n",
    "          TPW = SUM( Q(i,j,:)*MASS(i,j,:) )\n",
    "          NEGTPW = 0.\n",
    "          do l=1,LM\n",
    "             if ( Q(i,j,l) < 0.0 ) then\n",
    "                NEGTPW   = NEGTPW + ( Q(i,j,l)*MASS( i,j,l ) )\n",
    "                Q(i,j,l) = 0.0\n",
    "             endif\n",
    "          enddo\n",
    "          do l=1,LM\n",
    "             if ( Q(i,j,l) >= 0.0 ) then\n",
    "                Q(i,j,l) = Q(i,j,l)*( 1.0+NEGTPW/(TPW-NEGTPW) )\n",
    "             endif\n",
    "          enddo\n",
    "          FILLQ(i,j) = -NEGTPW\n",
    "       end do\n",
    "    end do\n",
    "  end subroutine FILLQ2ZERO1\n",
    "end program"
   ]
  },
  {
   "cell_type": "code",
   "execution_count": 4,
   "metadata": {
    "vscode": {
     "languageId": "shellscript"
    }
   },
   "outputs": [],
   "source": [
    "%%bash\n",
    "\n",
    "mv testSerialBox.F90 $SERIALBOX_EXAMPLE_PATH/Fortran"
   ]
  },
  {
   "cell_type": "markdown",
   "metadata": {},
   "source": [
    "Assuming that we are interested in porting the subroutine `FILLQ2ZERO1`, we need the array data before and after calling `FILLQ2ZERO1`, which will let us set the initial data state in our ported code appropriately and have output data for comparison purposes.  To get this data, there are directive-based Serialbox commands inserted before and after the call to `FILLQ2ZERO1` that follow the steps presented in the [Serialbox overview](#brief-serialbox-overview).  Let's quickly examine the Serialbox commands before the call to `FILLQ2ZERO1`.\n",
    "\n",
    "- `!$ser init directory='.' prefix='FILLQ2ZERO_In'` : Initializes Serialbox and specifies that the extracted data will be written into the current path where the code is executed.  The data will be grouped and named with the prefix `FILLQ2ZERO_In`.\n",
    "\n",
    "- `!$ser savepoint sp1` : Creates a savepoint with the name `sp1`.\n",
    "\n",
    "- `!$ser mode write` : Serialbox's operation mode will be to write data files.  This is the default mode (have to check this).  Other modes include `read`.\n",
    "\n",
    "- `!$ser data q_in=Qin_out m_in=MASS fq_in=FILLQ_out` : Serialbox will write the arrays out into data files.  Note that the variable on the left side of `=` is the variable name that Serialbox will use, and the variable on the right side of `=` is the Fortran variable.\n",
    "\n",
    "After the `FILLQ2ZERO1` call, the Serialbox command `!$ser data...`  records the resulting output arrays from `FILLQ2ZERO1` .  `!$ser cleanup` indicates we're done with writing data and finalizes the files.\n",
    "\n",
    "#### **Translating Serialbox directive calls into actual library calls**\n",
    "\n",
    "While we've expressed the Serialbox commands using directives, these directives will need to be mapped to the appropriate Serialbox library calls. To do this, we run a Python script `pp_ser.py` (found in the Serialbox installation directory) that will replace the `!ser` directive statements will the appropriate Fortran Serialbox calls and will write a new `testSerialBox.F90` file.  The following Bash commands will create an `sb` directory with the `Fortran` directory and execute the `pp_ser.py` script."
   ]
  },
  {
   "cell_type": "code",
   "execution_count": 5,
   "metadata": {
    "vscode": {
     "languageId": "shellscript"
    }
   },
   "outputs": [
    {
     "name": "stdout",
     "output_type": "stream",
     "text": [
      "Processing file testSerialBox.F90\n"
     ]
    }
   ],
   "source": [
    "%%bash\n",
    "\n",
    "cd $SERIALBOX_EXAMPLE_PATH/Fortran\n",
    "if [ ! -d \"./sb\" ]; then\n",
    "    mkdir sb\n",
    "else\n",
    "    rm -rf sb\n",
    "    mkdir sb\n",
    "fi\n",
    "\n",
    "python /home/ckung/Documents/Code/SMT-Nebulae/sw_stack/discover/sles15/src/2024.03.00/install/serialbox/python/pp_ser/pp_ser.py --output-dir=./sb testSerialBox.F90"
   ]
  },
  {
   "cell_type": "markdown",
   "metadata": {},
   "source": [
    "Note that we specified the option `--output-dir=./sb` when running `pp_ser.py`, which specifies the location where we want the resulting Fortran code with the Serialbox directives replaced with library calls.  If we did not specify the output directory, executing `pp_ser.py` would simply print the Fortran code to the terminal.  In the `sb` directory, we'll find a `testSerialBox.F90` file that contains the appropriate Serialbox calls."
   ]
  },
  {
   "cell_type": "code",
   "execution_count": 6,
   "metadata": {
    "vscode": {
     "languageId": "shellscript"
    }
   },
   "outputs": [
    {
     "name": "stdout",
     "output_type": "stream",
     "text": [
      "total 16\n",
      "drwxrwxr-x 2 ckung ckung 4096 May 13 10:08 .\n",
      "drwxrwxr-x 3 ckung ckung 4096 May 13 10:08 ..\n",
      "-rw-rw-r-- 1 ckung ckung 5033 May 13 10:08 testSerialBox.F90\n"
     ]
    }
   ],
   "source": [
    "%%bash\n",
    "\n",
    "cd $SERIALBOX_EXAMPLE_PATH/Fortran/sb\n",
    "ls -al"
   ]
  },
  {
   "cell_type": "markdown",
   "metadata": {},
   "source": [
    "#### **Building and Running Fortran code with Serialbox library**\n",
    "\n",
    "Compiling the Fortran code with Serialbox requires the following during compilation:\n",
    "\n",
    "- References to the following Serialbox libraries (assuming that we want the resulting binary with libraries statically linked)\n",
    "    - `libSerialboxFortran.a`\n",
    "    - `libSerialboxC.a`\n",
    "    - `libSerialboxCore.a`\n",
    "    - `-lstdc++`\n",
    "    \n",
    "- The `-DSERIALIZE` macro to activate the Serialbox codepath within the Fortran code.  Note that not having this macro during compilation will result in a binary without Serialbox calls.\n",
    "\n",
    "- The `include` path from the Serialbox installation\n",
    "\n",
    "The compilation line can look as follows."
   ]
  },
  {
   "cell_type": "code",
   "execution_count": 7,
   "metadata": {
    "vscode": {
     "languageId": "shellscript"
    }
   },
   "outputs": [],
   "source": [
    "%%bash\n",
    "\n",
    "cd $SERIALBOX_EXAMPLE_PATH/Fortran/sb\n",
    "\n",
    "# Note: Adjust the libraries and include paths appropriately\n",
    "\n",
    "gfortran testSerialBox.F90  \\\n",
    "    $SERIALBOX_INSTALL_PATH/lib/libSerialboxFortran.a \\\n",
    "    $SERIALBOX_INSTALL_PATH/lib/libSerialboxC.a \\\n",
    "    $SERIALBOX_INSTALL_PATH/lib/libSerialboxCore.a \\\n",
    "    -lstdc++ \\\n",
    "    -DSERIALIZE \\\n",
    "    -I$SERIALBOX_INSTALL_PATH/include \\\n",
    "    -o testSerialBox.bin\n"
   ]
  },
  {
   "cell_type": "markdown",
   "metadata": {},
   "source": [
    "After successful compilation, we can execute the code.  Note that whenever Serialbox is running, the code displays `WARNING: SERIALIZATION IS ON` in the terminal."
   ]
  },
  {
   "cell_type": "code",
   "execution_count": 8,
   "metadata": {
    "vscode": {
     "languageId": "shellscript"
    }
   },
   "outputs": [
    {
     "name": "stdout",
     "output_type": "stream",
     "text": [
      " sum(Qin_out) =    58.7446289    \n",
      " sum(MASS) =    62.1698570    \n",
      " >>>>>>>>>>>>>>>>>><<<<<<<<<<<<<<<<<<\n",
      " >>> WARNING: SERIALIZATION IS ON <<<\n",
      " >>>>>>>>>>>>>>>>>><<<<<<<<<<<<<<<<<<\n",
      " sum(Qin_out) =    58.7851906    \n",
      " sum(FILLQ_out) =   0.252184689    \n"
     ]
    }
   ],
   "source": [
    "%%bash\n",
    "\n",
    "cd $SERIALBOX_EXAMPLE_PATH/Fortran/sb\n",
    "./testSerialBox.bin"
   ]
  },
  {
   "cell_type": "markdown",
   "metadata": {},
   "source": [
    "After the code executes, you will see several `.json` and `.dat` files that are named based on the Serialbox's written variables and the `prefix` specified during Serialbox's initialization."
   ]
  },
  {
   "cell_type": "code",
   "execution_count": 9,
   "metadata": {
    "vscode": {
     "languageId": "shellscript"
    }
   },
   "outputs": [
    {
     "name": "stdout",
     "output_type": "stream",
     "text": [
      "total 1028\n",
      "drwxrwxr-x 2 ckung ckung   4096 May 13 10:08 .\n",
      "drwxrwxr-x 3 ckung ckung   4096 May 13 10:08 ..\n",
      "-rw-rw-r-- 1 ckung ckung    872 May 13 10:08 ArchiveMetaData-FILLQ2ZERO_InOut.json\n",
      "-rw-rw-r-- 1 ckung ckung    100 May 13 10:08 FILLQ2ZERO_InOut_fq_in.dat\n",
      "-rw-rw-r-- 1 ckung ckung    100 May 13 10:08 FILLQ2ZERO_InOut_fq_out.dat\n",
      "-rw-rw-r-- 1 ckung ckung    500 May 13 10:08 FILLQ2ZERO_InOut_m_in.dat\n",
      "-rw-rw-r-- 1 ckung ckung    500 May 13 10:08 FILLQ2ZERO_InOut_m_out.dat\n",
      "-rw-rw-r-- 1 ckung ckung    500 May 13 10:08 FILLQ2ZERO_InOut_q_in.dat\n",
      "-rw-rw-r-- 1 ckung ckung    500 May 13 10:08 FILLQ2ZERO_InOut_q_out.dat\n",
      "-rw-rw-r-- 1 ckung ckung   7157 May 13 10:08 MetaData-FILLQ2ZERO_InOut.json\n",
      "-rwxrwxr-x 1 ckung ckung 997608 May 13 10:08 testSerialBox.bin\n",
      "-rw-rw-r-- 1 ckung ckung   5033 May 13 10:08 testSerialBox.F90\n"
     ]
    }
   ],
   "source": [
    "%%bash\n",
    "\n",
    "cd $SERIALBOX_EXAMPLE_PATH/Fortran/sb\n",
    "ls -al"
   ]
  },
  {
   "cell_type": "markdown",
   "metadata": {},
   "source": [
    "## **Serialbox Example 2 : Looping Region**\n",
    "\n",
    "There may be cases where a function or subroutine is located within a looping region, and we want to check the values of a looping region.  Serialbox enables saving data within a looping region by adding metadata to the `!$ser savepoint` declaration.  In general, it can look like this.\n",
    "\n",
    "- `!$ser savepoint <Savepoint Name> <Metadata variable>=<Fortran variable (Usually the timestep)>`\n",
    "\n",
    "For example, if there's a timestep looping region that increments the variable `currTS`, we can use that variable to create separate savepoints within that looping region.\n",
    "\n",
    "- `!$ser savepoint sp timestep=currTS`\n",
    "\n",
    "In the example below, we'll use Serialbox to create multiple savepoints within a looping region."
   ]
  },
  {
   "cell_type": "code",
   "execution_count": 10,
   "metadata": {
    "vscode": {
     "languageId": "shellscript"
    }
   },
   "outputs": [],
   "source": [
    "%%bash\n",
    "\n",
    "cd $SERIALBOX_EXAMPLE_PATH\n",
    "\n",
    "if [ ! -d \"./Fortran_ts\" ]; then\n",
    "    mkdir Fortran_ts\n",
    "else\n",
    "    rm -rf Fortran_ts\n",
    "    mkdir Fortran_ts\n",
    "fi"
   ]
  },
  {
   "cell_type": "code",
   "execution_count": 11,
   "metadata": {
    "vscode": {
     "languageId": "shellscript"
    }
   },
   "outputs": [
    {
     "name": "stdout",
     "output_type": "stream",
     "text": [
      "Writing testSerialBox_ts.F90\n"
     ]
    }
   ],
   "source": [
    "%%writefile testSerialBox_ts.F90\n",
    "\n",
    "program testSerialBox_ts\n",
    "\n",
    "  implicit none\n",
    "\n",
    "  real, dimension(:,:,:), allocatable :: Qin_out, MASS\n",
    "  real, dimension(:,:),   allocatable :: FILLQ_out\n",
    "\n",
    "  integer :: N = 5, N_ts = 10, t\n",
    "\n",
    "  allocate(Qin_out(N,N,N), MASS(N,N,N), FILLQ_out(N,N))\n",
    "\n",
    "!$ser init directory='.' prefix='FILLQ2ZERO_InOut'\n",
    "\n",
    "  do t = 1, N_ts\n",
    "\n",
    "   call random_number(Qin_out)\n",
    "   call random_number(MASS)\n",
    "\n",
    "   where(Qin_out < 0.1) Qin_out = -Qin_out\n",
    "\n",
    "   print*, 'sum(Qin_out) = ', sum(Qin_out)\n",
    "   print*, 'sum(MASS) = ', sum(MASS)\n",
    "\n",
    "\n",
    "!$ser savepoint sp1 timestep=t\n",
    "!$ser data q_in=Qin_out m_in=MASS fq_in=FILLQ_out\n",
    "\n",
    "    call FILLQ2ZERO1(Qin_out, MASS, FILLQ_out)\n",
    "\n",
    "!$ser data q_out=Qin_out m_out=MASS fq_out=FILLQ_out\n",
    "\n",
    "!   print*, 'sum(Qin_out) = ', sum(Qin_out)\n",
    "!   print*, 'sum(FILLQ_out) = ', sum(FILLQ_out)\n",
    "\n",
    "  enddo\n",
    "  \n",
    "!$ser cleanup\n",
    "   contains\n",
    "\n",
    "  subroutine FILLQ2ZERO1( Q, MASS, FILLQ  )\n",
    "    real, dimension(:,:,:),   intent(inout)  :: Q\n",
    "    real, dimension(:,:,:),   intent(in)     :: MASS\n",
    "    real, dimension(:,:),     intent(  out)  :: FILLQ\n",
    "    integer                                  :: IM,JM,LM\n",
    "    integer                                  :: I,J,K,L\n",
    "    real                                     :: TPW, NEGTPW\n",
    "    !!!!!!!!!!!!!!!!!!!!!!!!!!!!!!!!!!!!!!!!!!!!!!!!!!!!!!!!\n",
    "    ! Fills in negative q values in a mass conserving way.\n",
    "    ! Conservation of TPW was checked.\n",
    "    !!!!!!!!!!!!!!!!!!!!!!!!!!!!!!!!!!!!!!!!!!!!!!!!!!!!!!!!\n",
    "    IM = SIZE( Q, 1 )\n",
    "    JM = SIZE( Q, 2 )\n",
    "    LM = SIZE( Q, 3 )\n",
    "    do j=1,JM\n",
    "       do i=1,IM\n",
    "          TPW = SUM( Q(i,j,:)*MASS(i,j,:) )\n",
    "          NEGTPW = 0.\n",
    "          do l=1,LM\n",
    "             if ( Q(i,j,l) < 0.0 ) then\n",
    "                NEGTPW   = NEGTPW + ( Q(i,j,l)*MASS( i,j,l ) )\n",
    "                Q(i,j,l) = 0.0\n",
    "             endif\n",
    "          enddo\n",
    "          do l=1,LM\n",
    "             if ( Q(i,j,l) >= 0.0 ) then\n",
    "                Q(i,j,l) = Q(i,j,l)*( 1.0+NEGTPW/(TPW-NEGTPW) )\n",
    "             endif\n",
    "          enddo\n",
    "          FILLQ(i,j) = -NEGTPW\n",
    "       end do\n",
    "    end do\n",
    "  end subroutine FILLQ2ZERO1\n",
    "end program"
   ]
  },
  {
   "cell_type": "code",
   "execution_count": 12,
   "metadata": {
    "vscode": {
     "languageId": "shellscript"
    }
   },
   "outputs": [
    {
     "name": "stdout",
     "output_type": "stream",
     "text": [
      "Processing file testSerialBox_ts.F90\n",
      " >>>>>>>>>>>>>>>>>><<<<<<<<<<<<<<<<<<\n",
      " >>> WARNING: SERIALIZATION IS ON <<<\n",
      " >>>>>>>>>>>>>>>>>><<<<<<<<<<<<<<<<<<\n",
      " sum(Qin_out) =    61.9121895    \n",
      " sum(MASS) =    59.9121780    \n",
      " sum(Qin_out) =    56.1568756    \n",
      " sum(MASS) =    64.7800751    \n",
      " sum(Qin_out) =    61.0407639    \n",
      " sum(MASS) =    63.4687958    \n",
      " sum(Qin_out) =    58.9772873    \n",
      " sum(MASS) =    62.4764175    \n",
      " sum(Qin_out) =    62.8103752    \n",
      " sum(MASS) =    63.0623398    \n",
      " sum(Qin_out) =    64.0034027    \n",
      " sum(MASS) =    59.7669296    \n",
      " sum(Qin_out) =    66.0840454    \n",
      " sum(MASS) =    58.6753502    \n",
      " sum(Qin_out) =    60.5121956    \n",
      " sum(MASS) =    62.7025185    \n",
      " sum(Qin_out) =    65.6868591    \n",
      " sum(MASS) =    70.1329956    \n",
      " sum(Qin_out) =    60.6698227    \n",
      " sum(MASS) =    63.8359032    \n",
      "total 1052\n",
      "drwxrwxr-x 2 ckung ckung   4096 May 13 10:08 .\n",
      "drwxrwxr-x 3 ckung ckung   4096 May 13 10:08 ..\n",
      "-rw-rw-r-- 1 ckung ckung   6457 May 13 10:08 ArchiveMetaData-FILLQ2ZERO_InOut.json\n",
      "-rw-rw-r-- 1 ckung ckung   1000 May 13 10:08 FILLQ2ZERO_InOut_fq_in.dat\n",
      "-rw-rw-r-- 1 ckung ckung   1000 May 13 10:08 FILLQ2ZERO_InOut_fq_out.dat\n",
      "-rw-rw-r-- 1 ckung ckung   5000 May 13 10:08 FILLQ2ZERO_InOut_m_in.dat\n",
      "-rw-rw-r-- 1 ckung ckung   5000 May 13 10:08 FILLQ2ZERO_InOut_m_out.dat\n",
      "-rw-rw-r-- 1 ckung ckung   5000 May 13 10:08 FILLQ2ZERO_InOut_q_in.dat\n",
      "-rw-rw-r-- 1 ckung ckung   5000 May 13 10:08 FILLQ2ZERO_InOut_q_out.dat\n",
      "-rw-rw-r-- 1 ckung ckung   9456 May 13 10:08 MetaData-FILLQ2ZERO_InOut.json\n",
      "-rwxrwxr-x 1 ckung ckung 997648 May 13 10:08 testSerialBox_ts.bin\n",
      "-rw-rw-r-- 1 ckung ckung   5117 May 13 10:08 testSerialBox_ts.F90\n"
     ]
    }
   ],
   "source": [
    "%%bash\n",
    "\n",
    "mv testSerialBox_ts.F90 $SERIALBOX_EXAMPLE_PATH/Fortran_ts\n",
    "\n",
    "cd $SERIALBOX_EXAMPLE_PATH/Fortran_ts\n",
    "if [ ! -d \"./sb\" ]; then\n",
    "    mkdir sb\n",
    "else\n",
    "    rm -rf sb\n",
    "    mkdir sb\n",
    "fi\n",
    "\n",
    "python /home/ckung/Documents/Code/SMT-Nebulae/sw_stack/discover/sles15/src/2024.03.00/install/serialbox/python/pp_ser/pp_ser.py --output-dir=./sb testSerialBox_ts.F90\n",
    "\n",
    "cd $SERIALBOX_EXAMPLE_PATH/Fortran_ts/sb\n",
    "\n",
    "gfortran testSerialBox_ts.F90  \\\n",
    "    $SERIALBOX_INSTALL_PATH/lib/libSerialboxFortran.a \\\n",
    "    $SERIALBOX_INSTALL_PATH/lib/libSerialboxC.a \\\n",
    "    $SERIALBOX_INSTALL_PATH/lib/libSerialboxCore.a \\\n",
    "    -lstdc++ \\\n",
    "    -DSERIALIZE \\\n",
    "    -I$SERIALBOX_INSTALL_PATH/include \\\n",
    "    -o testSerialBox_ts.bin\n",
    "\n",
    "./testSerialBox_ts.bin\n",
    "\n",
    "ls -al"
   ]
  }
 ],
 "metadata": {
  "kernelspec": {
   "display_name": "gt4py_jupyter",
   "language": "python",
   "name": "python3"
  },
  "language_info": {
   "codemirror_mode": {
    "name": "ipython",
    "version": 3
   },
   "file_extension": ".py",
   "mimetype": "text/x-python",
   "name": "python",
   "nbconvert_exporter": "python",
   "pygments_lexer": "ipython3",
   "version": "3.11.7"
  }
 },
 "nbformat": 4,
 "nbformat_minor": 2
}
