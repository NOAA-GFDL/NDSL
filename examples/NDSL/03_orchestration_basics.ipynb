{
 "cells": [
  {
   "cell_type": "markdown",
   "metadata": {},
   "source": [
    "# **NDSL Orchestration Basics**\n",
    "\n",
    "### **Introduction**\n",
    "\n",
    "When writing code using NDSL, there will be moments where an algorithm or code pattern does not match the stencil paradigm, and shoehorning the algorithm into the paradigm increases development difficulty.  For these moments, we have a capability called orchestration that enables developers to use regular Python for non-stencil algorithms alongside stencil-based code via [DaCe](https://github.com/spcl/dace).  DaCe also will attempt to find optimizations before output C++ code.\n",
    "\n",
    "In this example, we will explore how to orchestrate a codebase using NDSL.\n",
    "\n",
    "### **Orchestration Example**\n",
    "\n",
    "We'll step through a simple example that will orchestrate a codebase containing stencils and Python code.  First we'll import the necessary packages."
   ]
  },
  {
   "cell_type": "code",
   "execution_count": 1,
   "metadata": {},
   "outputs": [
    {
     "data": {
      "text/html": [
       "<script src=\"https://spcl.github.io/dace-webclient/dist/sdfv.js\"></script>\n"
      ],
      "text/plain": [
       "<IPython.core.display.HTML object>"
      ]
     },
     "metadata": {},
     "output_type": "display_data"
    },
    {
     "name": "stdout",
     "output_type": "stream",
     "text": [
      "2024-05-29 13:16:33|INFO|rank 0|ndsl.logging:Constant selected: ConstantVersions.GFS\n"
     ]
    }
   ],
   "source": [
    "import numpy as np\n",
    "from gt4py.cartesian.gtscript import (\n",
    "    PARALLEL,\n",
    "    computation,\n",
    "    interval,\n",
    ")\n",
    "from ndsl import (\n",
    "    StencilFactory,\n",
    "    DaceConfig,\n",
    "    orchestrate,\n",
    "    QuantityFactory,\n",
    ")\n",
    "from ndsl.constants import X_DIM, Y_DIM, Z_DIM\n",
    "from ndsl.dsl.typing import FloatField, Float\n",
    "\n",
    "from orch_boilerplate import get_one_tile_factory_orchestrated"
   ]
  },
  {
   "cell_type": "markdown",
   "metadata": {},
   "source": [
    "Next we'll define a simple stencil that sums the values around a point and applies a weight factor to that sum.  Note that unlike [previous](./01_gt4py_basics.ipynb#Copy_Stencil_example) examples, we are not using the `@stencil` decorator since this stencil will be referenced within a `StencilFactory` function call."
   ]
  },
  {
   "cell_type": "code",
   "execution_count": 2,
   "metadata": {},
   "outputs": [],
   "source": [
    "def localsum_stencil(\n",
    "    field: FloatField,  # type: ignore\n",
    "    result: FloatField,  # type: ignore\n",
    "    weight: Float,  # type: ignore\n",
    "):\n",
    "    with computation(PARALLEL), interval(...):\n",
    "        result = weight * (\n",
    "            field[1, 0, 0] + field[0, 1, 0] + field[-1, 0, 0] + field[0, -1, 0]\n",
    "        )"
   ]
  },
  {
   "cell_type": "markdown",
   "metadata": {},
   "source": [
    "We'll define an object that enables the orchestration and combines both stencils and regular Python codes.  The orchestration occurs with the `orchestrate` call in the `__init__` definition.  Within `__call__`, there's a combination of both stencil and regular python codes."
   ]
  },
  {
   "cell_type": "code",
   "execution_count": 3,
   "metadata": {},
   "outputs": [],
   "source": [
    "class LocalSum:\n",
    "    def __init__(\n",
    "        self, stencil_factory: StencilFactory, quantity_factory: QuantityFactory\n",
    "    ) -> None:\n",
    "        orchestrate(\n",
    "            obj=self,\n",
    "            config=stencil_factory.config.dace_config\n",
    "            or DaceConfig(None, stencil_factory.backend),\n",
    "        )\n",
    "        grid_indexing = stencil_factory.grid_indexing\n",
    "        self._local_sum = stencil_factory.from_origin_domain(\n",
    "            localsum_stencil,  # <-- gt4py stencil function wrapped into NDSL\n",
    "            origin=grid_indexing.origin_compute(),\n",
    "            domain=grid_indexing.domain_compute(),\n",
    "        )\n",
    "        self._tmp_field = quantity_factory.zeros(\n",
    "            [X_DIM, Y_DIM, Z_DIM], \"n/a\", dtype=dtype\n",
    "        )\n",
    "        self._n_halo = quantity_factory.sizer.n_halo\n",
    "\n",
    "    def __call__(self, in_field: FloatField, out_result: FloatField) -> None:\n",
    "        self._local_sum(in_field, out_result, 2.0) # GT4Py Stencil\n",
    "        tmp_field = out_result[:, :, :] + 2        # Regular Python code\n",
    "        self._local_sum(tmp_field, out_result, 2.0) # GT4Py Stencil"
   ]
  },
  {
   "cell_type": "markdown",
   "metadata": {},
   "source": [
    "Next, we'll create a simple driver that defines the domain and halo size, specifies the backend (`dace:cpu` in order to use DaCe), and uses the boilerplate code to create a stencil and quantity factory objects.  These objects help define the computational domain used for this particular example.  After defining quantities (`in_field` and `out_field`) to hold the appropriate values and creating an object `local_sum` for our combined stencil/Python calculation, `local_sum` is called to perform the computation.  In the output, we can see DaCe orchestrating the code. "
   ]
  },
  {
   "cell_type": "code",
   "execution_count": 4,
   "metadata": {},
   "outputs": [
    {
     "name": "stdout",
     "output_type": "stream",
     "text": [
      "2024-05-29 13:16:33|INFO|rank 0|ndsl.logging:[DaCeOrchestration.BuildAndRun] Rank 0 reading/writing cache .gt_cache_FV3_A\n",
      "2024-05-29 13:16:33|INFO|rank 0|ndsl.logging:Building DaCe orchestration\n",
      "Inlined 2 SDFGs.\n",
      "Fused 4 states.\n",
      "Inferred 2 optional arrays.\n",
      "SDFG 0: Eliminated 1 arrays: {'out_result_0'}.\n",
      "Fused 2 states.\n",
      "Inferred 4 optional arrays.\n",
      "Inlined 2 SDFGs.\n",
      "2024-05-29 13:16:34|INFO|rank 0|ndsl.logging:[DaCeOrchestration.BuildAndRun] LocalSum___call__:\n",
      "StorageType.Default:\n",
      "  Alloc ref 0.01 mb\n",
      "  Alloc unref 0.00 mb\n",
      "  Pooled 0.00 mb\n",
      "  Top lvl alloc: 0.01mb\n",
      "\n",
      "[DaCe Config] Rank 0 loading SDFG /home/ckung/Documents/Code/SMT-Nebulae-Tutorial/tutorial/NDSL/.gt_cache_FV3_A/dacecache/LocalSum___call__\n"
     ]
    }
   ],
   "source": [
    "# ----- Driver ----- #\n",
    "\n",
    "if __name__ == \"__main__\":\n",
    "    # Settings\n",
    "    backend = \"dace:cpu\"\n",
    "    dtype = np.float64\n",
    "    origin = (0, 0, 0)\n",
    "    rebuild = True\n",
    "    tile_size = (3, 3, 3)\n",
    "\n",
    "    # Setup\n",
    "    stencil_factory, qty_factory = get_one_tile_factory_orchestrated(\n",
    "        nx=tile_size[0],\n",
    "        ny=tile_size[1],\n",
    "        nz=tile_size[2],\n",
    "        nhalo=2,\n",
    "        backend=backend,\n",
    "    )\n",
    "    local_sum = LocalSum(stencil_factory, qty_factory)\n",
    "\n",
    "    in_field = qty_factory.zeros([X_DIM, Y_DIM, Z_DIM], \"n/a\", dtype=dtype)\n",
    "    in_field.view[:] = 2.0\n",
    "    out_field = qty_factory.zeros([X_DIM, Y_DIM, Z_DIM], \"n/a\", dtype=dtype)\n",
    "\n",
    "    # Run\n",
    "    local_sum(in_field, out_field)"
   ]
  }
 ],
 "metadata": {
  "kernelspec": {
   "display_name": "gt4py_jupyter",
   "language": "python",
   "name": "python3"
  },
  "language_info": {
   "codemirror_mode": {
    "name": "ipython",
    "version": 3
   },
   "file_extension": ".py",
   "mimetype": "text/x-python",
   "name": "python",
   "nbconvert_exporter": "python",
   "pygments_lexer": "ipython3",
   "version": "3.11.7"
  }
 },
 "nbformat": 4,
 "nbformat_minor": 2
}
