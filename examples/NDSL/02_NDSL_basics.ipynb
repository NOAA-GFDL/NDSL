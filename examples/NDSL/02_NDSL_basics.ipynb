{
 "cells": [
  {
   "cell_type": "markdown",
   "metadata": {},
   "source": [
    "# **NDSL Basics** #\n",
    "\n",
    "### **Introduction**\n",
    "After establishing the basics of using GT4Py, we'll take a look at developing an object-oriented coding approach with the NDSL middleware.  Much of the object-oriented work comes from the development of [Pace](https://github.com/NOAA-GFDL/pace), the implementation of the FV3GFS / SHiELD atmospheric model using GT4Py and [DaCe](https://github.com/spcl/dace).  The `StencilFactory` object will be introduced and demoed."
   ]
  },
  {
   "cell_type": "markdown",
   "metadata": {},
   "source": [
    "### **Creating the `StencilFactory` object**\n",
    "\n",
    "The `StencilFactory` object enables the sharing of stencil properties across multiple stencils as well as \"build and execute\" the stencil.  To help ease the introduction, the [`boilerplate` module](./boilerplate.py) contains a function `get_one_tile_factory` that takes the domain size, halo size, and backend of interest and returns a `StencilFactory` object.  For more details about the objects needed to create the `StencilFactory`, the reader can view the [`get_one_tile_factory`](./boilerplate.py#get_one_tile_factory) function."
   ]
  },
  {
   "cell_type": "code",
   "execution_count": null,
   "metadata": {},
   "outputs": [],
   "source": [
    "from ndsl import StencilFactory\n",
    "from ndsl.boilerplate import get_factories_single_tile_numpy\n",
    "\n",
    "nx = 6\n",
    "ny = 6\n",
    "nz = 1\n",
    "nhalo = 1\n",
    "\n",
    "stencil_factory, _ = get_factories_single_tile_numpy(nx, ny, nz, nhalo)"
   ]
  },
  {
   "cell_type": "markdown",
   "metadata": {},
   "source": [
    "### **Creating the Copy stencil**\n",
    "\n",
    "The `NDSL` and `gt4py` module contain key terms that will be used to create the stencil.  Many terms are covered in the [GT4Py basic tutorial](./01_gt4py_basics.ipynb) notebook, but we'll briefly recap.\n",
    "\n",
    "- `FloatField` : This type can generally can be thought of as a `gt4py` 3-dimensional `numpy` array of floating point values.\n",
    "\n",
    "- `computation(PARALLEL)` : This keyword combination means that there is no assumed order to perform calculations in the `K` (3rd) dimension of a `gt4py` storage.  `PARALLEL` can be replaced by `FORWARD` or `BACKWARD` for serialized calculations in the `K` dimension.\n",
    "\n",
    "- `interval(...)` : This keyword specifies the range of computation in the `K` dimension.\n",
    "\n",
    "The code below contains the copy stencil implementation."
   ]
  },
  {
   "cell_type": "code",
   "execution_count": null,
   "metadata": {},
   "outputs": [],
   "source": [
    "from ndsl.dsl.typing import FloatField\n",
    "from gt4py.cartesian.gtscript import PARALLEL, computation, interval\n",
    "\n",
    "def copy_field_stencil(field_in: FloatField, field_out: FloatField):\n",
    "    with computation(PARALLEL), interval(...):\n",
    "        field_out = field_in"
   ]
  },
  {
   "cell_type": "markdown",
   "metadata": {},
   "source": [
    "Note that a decorator does not surround this stencil as shown before in the [basic tutorial](./01_gt4py_basics.ipynb).  Instead, we'll use the `StencilFactory` to \"initiate\" the stencil."
   ]
  },
  {
   "cell_type": "markdown",
   "metadata": {},
   "source": [
    "### **Creating a class that performs a stencil computation**\n",
    "\n",
    "Using the `StencilFactory` object created earlier, the code will now create a class `CopyField` that takes `copy_field_stencil` and defines the computation domain from the parameters `origin` and `domain` within `__init__`. `origin` indicates the \"starting\" point of the stencil calculation, and `domain` indicates the extent of the stencil calculation in the three dimensions.  Note that when creating `stencil_factory`, a 6 by 6 by 1 sized domain surrounded with a halo layer of size 1 was defined. Thus, whenever a `CopyField` object is created, it will perform calculations within the 6 by 6 by 1 domain (specified by `domain=grid_indexing.domain_compute()`), and the `origin` will start at the `[0,0,0]` location of the 6 by 6 by 1 grid (specified by `origin=grid_indexing.origin_compute()`)."
   ]
  },
  {
   "cell_type": "code",
   "execution_count": null,
   "metadata": {},
   "outputs": [],
   "source": [
    "class CopyField:\n",
    "    def __init__(self, stencil_factory: StencilFactory):\n",
    "        grid_indexing = stencil_factory.grid_indexing\n",
    "        self._copy_field = stencil_factory.from_origin_domain(\n",
    "            copy_field_stencil, # <-- gt4py stencil function wrapped into NDSL\n",
    "            origin=grid_indexing.origin_compute(),\n",
    "            domain=grid_indexing.domain_compute(),\n",
    "        )\n",
    "\n",
    "    def __call__( # <-- Runtime path\n",
    "        self,\n",
    "        field_in: FloatField,\n",
    "        field_out: FloatField,\n",
    "    ):\n",
    "        self._copy_field(field_in, field_out)\n",
    "        \n",
    "        \n",
    "copy_field = CopyField(stencil_factory)"
   ]
  },
  {
   "cell_type": "markdown",
   "metadata": {},
   "source": [
    "### **Allocating Data in `NDSL`**\n",
    "\n",
    "The next code section will create arrays using `Quantity`.  For more information about `Quantity`, see the [GT4Py Basic tutorial](./01_gt4py_basics.ipynb#Copy_Stencil_example)."
   ]
  },
  {
   "cell_type": "code",
   "execution_count": null,
   "metadata": {},
   "outputs": [],
   "source": [
    "from ndsl.quantity import Quantity\n",
    "import numpy as np\n",
    "\n",
    "backend = stencil_factory.backend\n",
    "size = (nx + 2 * nhalo) * (ny + 2 * nhalo) * nz\n",
    "shape = (nx + 2 * nhalo, ny + 2 * nhalo, nz)\n",
    "\n",
    "qty_out = Quantity(data=np.zeros(shape),\n",
    "                   dims=[\"I\", \"J\", \"K\"],\n",
    "                   units=\"m\",\n",
    "                   gt4py_backend=backend\n",
    "                   )\n",
    "\n",
    "\n",
    "\n",
    "\n",
    "arr = np.indices(shape,dtype=float).sum(axis=0)  # Value of each entry is sum of the I and J index at each point\n",
    "\n",
    "qty_in = Quantity(data=arr,\n",
    "                  dims=[\"I\", \"J\", \"K\"],\n",
    "                  units=\"m\",\n",
    "                  gt4py_backend=backend)\n",
    "\n",
    "print(\"Plotting qty_in at K = 0\")\n",
    "qty_in.plot_k_level(0)\n",
    "print(\"Plotting qty_out at K = 0\")\n",
    "qty_out.plot_k_level(0)\n"
   ]
  },
  {
   "cell_type": "markdown",
   "metadata": {},
   "source": [
    "### **Calling `copy_field` stencil**\n",
    "\n",
    "The code will call `copy_field` to execute `copy_field_stencil` using the previously defined `Quantity` data containers and plot the result at `K = 0`."
   ]
  },
  {
   "cell_type": "code",
   "execution_count": null,
   "metadata": {},
   "outputs": [],
   "source": [
    "print(\"Copying copy_field stencil\")\n",
    "copy_field(qty_in, qty_out)\n",
    "print(\"Plotting qty_out at K = 0\")\n",
    "qty_out.plot_k_level(0)"
   ]
  },
  {
   "cell_type": "markdown",
   "metadata": {},
   "source": [
    "From the plot, we see that the copy is only applied to the inner 6 by 6 area and not the entire domain.  The stencil in this case only applies in this \"domain\" and not the \"halo\" region surrounding the domain."
   ]
  },
  {
   "cell_type": "markdown",
   "metadata": {},
   "source": [
    "### **Applying a J offset**\n",
    "\n",
    "The next example will create a stencil that takes a `Quantity` as an input, shift the input by 1 in the `-J` direction, and write it to an output `Quantity`.  This stencil is defined in `copy_field_offset_stencil`.\n",
    "\n",
    "Note that in `copy_field_offset_stencil`, the shift in the J dimension is performed by referencing the `J` object from `gt4py.cartesian.gtscript` for simplicity.  This reference will apply the shift in J to the entire input domain.  Another way to perform the shift without referencing the `J` object is to write `[0,-1,0]` (assuming that the variable being modified is 3-dimensional) instead of `[J-1]`.\n",
    "\n",
    "With the stencil in place, a class `CopyFieldOffset` is defined using the `StencilFactory` object and `copy_field_offset_stencil`.  The class is instantiated and demonstrated to shift `qty_in` by 1 in the J-dimension and write to `qty_out`."
   ]
  },
  {
   "cell_type": "code",
   "execution_count": null,
   "metadata": {},
   "outputs": [],
   "source": [
    "from gt4py.cartesian.gtscript import J\n",
    "\n",
    "def copy_field_offset_stencil(field_in: FloatField, field_out: FloatField):\n",
    "    with computation(PARALLEL), interval(...):\n",
    "        field_out = field_in[J-1]\n",
    "        \n",
    "class CopyFieldOffset:\n",
    "    def __init__(self, stencil_factory: StencilFactory):\n",
    "        grid_indexing = stencil_factory.grid_indexing\n",
    "        self._copy_field_offset = stencil_factory.from_origin_domain(\n",
    "            copy_field_offset_stencil,\n",
    "            origin=grid_indexing.origin_compute(),\n",
    "            domain=grid_indexing.domain_compute(),\n",
    "        )\n",
    "\n",
    "    def __call__(\n",
    "        self,\n",
    "        field_in: FloatField,\n",
    "        field_out: FloatField,\n",
    "    ):\n",
    "        self._copy_field_offset(field_in, field_out)\n",
    "        \n",
    "copy_field_offset = CopyFieldOffset(stencil_factory)\n",
    "        \n",
    "qty_out = Quantity(data=np.zeros(shape),\n",
    "                   dims=[\"I\", \"J\", \"K\"],\n",
    "                   units=\"m\",\n",
    "                   gt4py_backend=backend\n",
    "                   )\n",
    "\n",
    "print(\"Initialize qty_out to zeros\")\n"
   ]
  },
  {
   "cell_type": "code",
   "execution_count": null,
   "metadata": {},
   "outputs": [],
   "source": [
    "print(\"Executing copy_field_offset stencil\")\n",
    "copy_field_offset(qty_in, qty_out)\n",
    "print(\"Plotting values of qty_out at K = 0\")\n",
    "qty_out.plot_k_level(0)"
   ]
  },
  {
   "cell_type": "markdown",
   "metadata": {},
   "source": [
    "### **Limits to offset : Cannot set offset outside of usable domain**\n",
    "\n",
    "Note that when the copy offset by -1 in the j-direction is performed, the 'halo' region at J = 8 is copied over due to the `J` shift.  This means that there are limits to the shift amount since choosing a large shift amount may result in accessing a data region that does not exist.  The following example shows this by trying to perform a shift by -2 in the j-direction."
   ]
  },
  {
   "cell_type": "code",
   "execution_count": null,
   "metadata": {},
   "outputs": [],
   "source": [
    "def copy_field_offset_stencil(field_in: FloatField, field_out: FloatField):\n",
    "    with computation(PARALLEL), interval(...):\n",
    "        field_out = field_in[J-2]\n",
    "        \n",
    "class CopyFieldOffset:\n",
    "    def __init__(self, stencil_factory: StencilFactory):\n",
    "        grid_indexing = stencil_factory.grid_indexing\n",
    "        self._copy_field_offset = stencil_factory.from_origin_domain(\n",
    "            copy_field_offset_stencil,\n",
    "            origin=grid_indexing.origin_compute(),\n",
    "            domain=grid_indexing.domain_compute(),\n",
    "        )\n",
    "\n",
    "    def __call__(\n",
    "        self,\n",
    "        field_in: FloatField,\n",
    "        field_out: FloatField,\n",
    "    ):\n",
    "        self._copy_field_offset(field_in, field_out)\n",
    "        \n",
    "copy_field_offset = CopyFieldOffset(stencil_factory)\n",
    "\n",
    "copy_field_offset(qty_in, qty_out)\n"
   ]
  },
  {
   "cell_type": "markdown",
   "metadata": {},
   "source": [
    "### **Example demonstrating error when writing to offset outputs**\n",
    "\n",
    "While offsets can be applied to all input `Quantity` variables in a stencil, output `Quantity` variables cannot have such offsets.  When an offset is applied to an output stencil calculation, the error `GTScriptSyntaxError: Assignment to non-zero offsets is not supported.` will be displayed."
   ]
  },
  {
   "cell_type": "code",
   "execution_count": null,
   "metadata": {},
   "outputs": [],
   "source": [
    "from gt4py.cartesian.gtscript import J\n",
    "\n",
    "def copy_field_offset_output_stencil(field_in: FloatField, field_out: FloatField):\n",
    "    with computation(PARALLEL), interval(...):\n",
    "        field_out[0,1,0] = field_in\n",
    "        \n",
    "class CopyFieldOffsetOutput:\n",
    "    def __init__(self, stencil_factory: StencilFactory):\n",
    "        grid_indexing = stencil_factory.grid_indexing\n",
    "        self._copy_field_offset_output = stencil_factory.from_origin_domain(\n",
    "            copy_field_offset_output_stencil,\n",
    "            origin=grid_indexing.origin_compute(),\n",
    "            domain=grid_indexing.domain_compute(),\n",
    "        )\n",
    "\n",
    "    def __call__(\n",
    "        self,\n",
    "        field_in: FloatField,\n",
    "        field_out: FloatField,\n",
    "    ):\n",
    "        self._copy_field_offset_output(field_in, field_out)\n",
    "        \n",
    "copy_field_offset_output = CopyFieldOffsetOutput(stencil_factory)\n",
    "        "
   ]
  }
 ],
 "metadata": {
  "kernelspec": {
   "display_name": "gt4py_jupyter",
   "language": "python",
   "name": "python3"
  },
  "language_info": {
   "codemirror_mode": {
    "name": "ipython",
    "version": 3
   },
   "file_extension": ".py",
   "mimetype": "text/x-python",
   "name": "python",
   "nbconvert_exporter": "python",
   "pygments_lexer": "ipython3",
   "version": "3.11.9"
  }
 },
 "nbformat": 4,
 "nbformat_minor": 2
}
